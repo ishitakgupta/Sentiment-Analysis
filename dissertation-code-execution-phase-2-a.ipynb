{
 "cells": [
  {
   "cell_type": "code",
   "execution_count": 1,
   "metadata": {
    "_cell_guid": "b1076dfc-b9ad-4769-8c92-a6c4dae69d19",
    "_uuid": "8f2839f25d086af736a60e9eeb907d3b93b6e0e5",
    "execution": {
     "iopub.execute_input": "2025-04-21T19:36:21.406343Z",
     "iopub.status.busy": "2025-04-21T19:36:21.406077Z",
     "iopub.status.idle": "2025-04-21T19:36:52.494904Z",
     "shell.execute_reply": "2025-04-21T19:36:52.494144Z",
     "shell.execute_reply.started": "2025-04-21T19:36:21.406324Z"
    }
   },
   "outputs": [
    {
     "name": "stderr",
     "output_type": "stream",
     "text": [
      "2025-04-21 19:36:39.356372: E external/local_xla/xla/stream_executor/cuda/cuda_fft.cc:477] Unable to register cuFFT factory: Attempting to register factory for plugin cuFFT when one has already been registered\n",
      "WARNING: All log messages before absl::InitializeLog() is called are written to STDERR\n",
      "E0000 00:00:1745264199.550460      31 cuda_dnn.cc:8310] Unable to register cuDNN factory: Attempting to register factory for plugin cuDNN when one has already been registered\n",
      "E0000 00:00:1745264199.605699      31 cuda_blas.cc:1418] Unable to register cuBLAS factory: Attempting to register factory for plugin cuBLAS when one has already been registered\n"
     ]
    },
    {
     "name": "stdout",
     "output_type": "stream",
     "text": [
      "Using device: cuda\n",
      "PyTorch version: 2.5.1+cu124\n",
      "Transformers version: 4.51.1\n"
     ]
    }
   ],
   "source": [
    "# NLP Sentiment Analysis & Emotion Classification with Transformer Models\n",
    "# Comparing BERT, DistilBERT, and GPT models\n",
    "\n",
    "import pandas as pd\n",
    "import numpy as np\n",
    "import matplotlib.pyplot as plt\n",
    "import seaborn as sns\n",
    "from tqdm.notebook import tqdm\n",
    "import time\n",
    "import torch\n",
    "from sklearn.model_selection import train_test_split\n",
    "from sklearn.metrics import classification_report, confusion_matrix, accuracy_score, f1_score\n",
    "import transformers\n",
    "from transformers import AutoTokenizer, AutoModelForSequenceClassification, Trainer, TrainingArguments\n",
    "from transformers import BertTokenizer, BertForSequenceClassification\n",
    "from transformers import DistilBertTokenizer, DistilBertForSequenceClassification\n",
    "from transformers import GPT2Tokenizer, GPT2ForSequenceClassification\n",
    "from transformers import pipeline\n",
    "from datasets import Dataset, DatasetDict\n",
    "\n",
    "# Check if GPU is available\n",
    "device = torch.device(\"cuda\" if torch.cuda.is_available() else \"cpu\")\n",
    "print(f\"Using device: {device}\")\n",
    "print(f\"PyTorch version: {torch.__version__}\")\n",
    "print(f\"Transformers version: {transformers.__version__}\")\n",
    "\n",
    "# Set random seed for reproducibility\n",
    "seed_value = 42\n",
    "torch.manual_seed(seed_value)\n",
    "np.random.seed(seed_value)\n",
    "if torch.cuda.is_available():\n",
    "    torch.cuda.manual_seed_all(seed_value)"
   ]
  },
  {
   "cell_type": "code",
   "execution_count": 2,
   "metadata": {
    "execution": {
     "iopub.execute_input": "2025-04-21T19:37:22.002480Z",
     "iopub.status.busy": "2025-04-21T19:37:22.001830Z",
     "iopub.status.idle": "2025-04-21T19:37:27.038724Z",
     "shell.execute_reply": "2025-04-21T19:37:27.037716Z",
     "shell.execute_reply.started": "2025-04-21T19:37:22.002456Z"
    }
   },
   "outputs": [
    {
     "name": "stdout",
     "output_type": "stream",
     "text": [
      "Loading datasets...\n",
      "Amazon Reviews Dataset shape: (400000, 2)\n",
      "                                              Review  Label\n",
      "0  Great CD: My lovely Pat has one of the GREAT v...      1\n",
      "1  One of the best game music soundtracks - for a...      1\n",
      "2  Batteries died within a year ...: I bought thi...      0\n",
      "3  works fine, but Maha Energy is better: Check o...      1\n",
      "4  Great for the non-audiophile: Reviewed quite a...      1\n",
      "Emotions Dataset shape: (416809, 2)\n",
      "                                                text  label\n",
      "0      i just feel really helpless and heavy hearted      4\n",
      "1  ive enjoyed being able to slouch about relax a...      0\n",
      "2  i gave up my internship with the dmrg and am f...      4\n",
      "3                         i dont know i feel so lost      0\n",
      "4  i am a kindergarten teacher and i am thoroughl...      4\n",
      "Unlabelled Reviews Dataset shape: (4915, 12)\n",
      "   Unnamed: 0  reviewerName  overall  \\\n",
      "0           0           NaN      4.0   \n",
      "1           1          0mie      5.0   \n",
      "2           2           1K3      4.0   \n",
      "3           3           1m2      5.0   \n",
      "4           4  2&amp;1/2Men      5.0   \n",
      "\n",
      "                                          reviewText  reviewTime  day_diff  \\\n",
      "0                                         No issues.  2014-07-23       138   \n",
      "1  Purchased this for my device, it worked as adv...  2013-10-25       409   \n",
      "2  it works as expected. I should have sprung for...  2012-12-23       715   \n",
      "3  This think has worked out great.Had a diff. br...  2013-11-21       382   \n",
      "4  Bought it with Retail Packaging, arrived legit...  2013-07-13       513   \n",
      "\n",
      "   helpful_yes  helpful_no  total_vote  score_pos_neg_diff  \\\n",
      "0            0           0           0                   0   \n",
      "1            0           0           0                   0   \n",
      "2            0           0           0                   0   \n",
      "3            0           0           0                   0   \n",
      "4            0           0           0                   0   \n",
      "\n",
      "   score_average_rating  wilson_lower_bound  \n",
      "0                   0.0                 0.0  \n",
      "1                   0.0                 0.0  \n",
      "2                   0.0                 0.0  \n",
      "3                   0.0                 0.0  \n",
      "4                   0.0                 0.0  \n"
     ]
    }
   ],
   "source": [
    "# Load Datasets\n",
    "print(\"Loading datasets...\")\n",
    "\n",
    "# Load Amazon Reviews Sentiment Dataset\n",
    "amazon_reviews = pd.read_csv(\"/kaggle/input/amazone-reviews/amazon_reviews.csv\")\n",
    "print(\"Amazon Reviews Dataset shape:\", amazon_reviews.shape)\n",
    "print(amazon_reviews.head())\n",
    "\n",
    "# Load Emotions Dataset\n",
    "emotions = pd.read_csv(\"/kaggle/input/emotions-dataset/emotions.csv\")\n",
    "print(\"Emotions Dataset shape:\", emotions.shape)\n",
    "print(emotions.head())\n",
    "\n",
    "# Load Unlabelled Amazon Reviews\n",
    "unlabelled_reviews = pd.read_csv(\"/kaggle/input/amazon/amazon_reviews.csv\")\n",
    "print(\"Unlabelled Reviews Dataset shape:\", unlabelled_reviews.shape)\n",
    "print(unlabelled_reviews.head())"
   ]
  },
  {
   "cell_type": "code",
   "execution_count": 3,
   "metadata": {
    "execution": {
     "iopub.execute_input": "2025-04-21T19:37:34.419801Z",
     "iopub.status.busy": "2025-04-21T19:37:34.419508Z",
     "iopub.status.idle": "2025-04-21T19:37:34.743780Z",
     "shell.execute_reply": "2025-04-21T19:37:34.743244Z",
     "shell.execute_reply.started": "2025-04-21T19:37:34.419780Z"
    }
   },
   "outputs": [
    {
     "name": "stdout",
     "output_type": "stream",
     "text": [
      "\n",
      "Amazon Reviews Dataset Analysis:\n",
      "Label\n",
      "1    200000\n",
      "0    200000\n",
      "Name: count, dtype: int64\n",
      "\n",
      "Emotions Dataset Analysis:\n",
      "label\n",
      "1    141067\n",
      "0    121187\n",
      "3     57317\n",
      "4     47712\n",
      "2     34554\n",
      "5     14972\n",
      "Name: count, dtype: int64\n"
     ]
    }
   ],
   "source": [
    "# Data Preprocessing and Exploration\n",
    "\n",
    "# Amazon Reviews Dataset\n",
    "print(\"\\nAmazon Reviews Dataset Analysis:\")\n",
    "print(amazon_reviews['Label'].value_counts())\n",
    "# Check for class balance\n",
    "sns.countplot(x='Label', data=amazon_reviews)\n",
    "plt.title('Amazon Reviews - Label Distribution')\n",
    "plt.savefig('amazon_label_dist.png')\n",
    "plt.close()\n",
    "\n",
    "# Emotions Dataset\n",
    "print(\"\\nEmotions Dataset Analysis:\")\n",
    "print(emotions['label'].value_counts())\n",
    "# Check for class balance\n",
    "sns.countplot(x='label', data=emotions)\n",
    "plt.title('Emotions - Label Distribution')\n",
    "plt.savefig('emotions_label_dist.png')\n",
    "plt.close()"
   ]
  },
  {
   "cell_type": "code",
   "execution_count": 4,
   "metadata": {
    "execution": {
     "iopub.execute_input": "2025-04-21T19:37:48.945802Z",
     "iopub.status.busy": "2025-04-21T19:37:48.945523Z",
     "iopub.status.idle": "2025-04-21T19:37:49.057758Z",
     "shell.execute_reply": "2025-04-21T19:37:49.056988Z",
     "shell.execute_reply.started": "2025-04-21T19:37:48.945780Z"
    }
   },
   "outputs": [
    {
     "name": "stdout",
     "output_type": "stream",
     "text": [
      "Amazon Reviews sample size: 10000\n",
      "Emotions sample size: 6000\n"
     ]
    },
    {
     "name": "stderr",
     "output_type": "stream",
     "text": [
      "/tmp/ipykernel_31/2653444420.py:10: DeprecationWarning: DataFrameGroupBy.apply operated on the grouping columns. This behavior is deprecated, and in a future version of pandas the grouping columns will be excluded from the operation. Either pass `include_groups=False` to exclude the groupings or explicitly select the grouping columns after groupby to silence this warning.\n",
      "  emotions_sample = emotions.groupby('label').apply(lambda x: x.sample(min(1000, len(x)), random_state=seed_value)).reset_index(drop=True)\n"
     ]
    }
   ],
   "source": [
    "# Sampling for efficient training (due to GPU time constraints)\n",
    "# Using a smaller subset to train multiple models efficiently\n",
    "\n",
    "# For Amazon Reviews - keeping class balance\n",
    "amazon_pos = amazon_reviews[amazon_reviews['Label'] == 1].sample(5000, random_state=seed_value)\n",
    "amazon_neg = amazon_reviews[amazon_reviews['Label'] == 0].sample(5000, random_state=seed_value)\n",
    "amazon_sample = pd.concat([amazon_pos, amazon_neg]).sample(frac=1, random_state=seed_value).reset_index(drop=True)\n",
    "\n",
    "# For Emotions - stratified sampling to maintain class distribution\n",
    "emotions_sample = emotions.groupby('label').apply(lambda x: x.sample(min(1000, len(x)), random_state=seed_value)).reset_index(drop=True)\n",
    "\n",
    "print(f\"Amazon Reviews sample size: {len(amazon_sample)}\")\n",
    "print(f\"Emotions sample size: {len(emotions_sample)}\")"
   ]
  },
  {
   "cell_type": "code",
   "execution_count": 5,
   "metadata": {
    "execution": {
     "iopub.execute_input": "2025-04-21T19:37:55.388326Z",
     "iopub.status.busy": "2025-04-21T19:37:55.387629Z",
     "iopub.status.idle": "2025-04-21T19:37:55.475510Z",
     "shell.execute_reply": "2025-04-21T19:37:55.474713Z",
     "shell.execute_reply.started": "2025-04-21T19:37:55.388301Z"
    }
   },
   "outputs": [
    {
     "name": "stdout",
     "output_type": "stream",
     "text": [
      "Amazon Reviews datasets: {'train': 7000, 'validation': 1500, 'test': 1500}\n",
      "Emotions datasets: {'train': 4200, 'validation': 900, 'test': 900}\n"
     ]
    }
   ],
   "source": [
    "# Split into train/validation/test sets\n",
    "def split_dataset(df, text_col, label_col):\n",
    "    # Train (70%), validation (15%), test (15%) split\n",
    "    train_df, temp_df = train_test_split(df, test_size=0.3, stratify=df[label_col], random_state=seed_value)\n",
    "    val_df, test_df = train_test_split(temp_df, test_size=0.5, stratify=temp_df[label_col], random_state=seed_value)\n",
    "    \n",
    "    # Convert to Dataset objects\n",
    "    train_dataset = Dataset.from_pandas(train_df)\n",
    "    val_dataset = Dataset.from_pandas(val_df)\n",
    "    test_dataset = Dataset.from_pandas(test_df)\n",
    "    \n",
    "    return DatasetDict({\n",
    "        'train': train_dataset,\n",
    "        'validation': val_dataset,\n",
    "        'test': test_dataset\n",
    "    })\n",
    "\n",
    "# Process Amazon Reviews for modeling\n",
    "amazon_datasets = split_dataset(amazon_sample, 'Review', 'Label')\n",
    "\n",
    "# Process Emotions Dataset for modeling\n",
    "emotions_datasets = split_dataset(emotions_sample, 'text', 'label')\n",
    "\n",
    "print(\"Amazon Reviews datasets:\", {k: len(v) for k, v in amazon_datasets.items()})\n",
    "print(\"Emotions datasets:\", {k: len(v) for k, v in emotions_datasets.items()})"
   ]
  },
  {
   "cell_type": "code",
   "execution_count": 6,
   "metadata": {
    "execution": {
     "iopub.execute_input": "2025-04-21T19:37:59.987112Z",
     "iopub.status.busy": "2025-04-21T19:37:59.986655Z",
     "iopub.status.idle": "2025-04-21T19:37:59.996180Z",
     "shell.execute_reply": "2025-04-21T19:37:59.995498Z",
     "shell.execute_reply.started": "2025-04-21T19:37:59.987089Z"
    }
   },
   "outputs": [],
   "source": [
    "# Create a model training and evaluation function\n",
    "def train_evaluate_model(model_name, tokenizer_name, train_dataset, val_dataset, test_dataset, \n",
    "                         text_column, label_column, num_labels, output_dir, epochs=3):\n",
    "    \"\"\"\n",
    "    Train and evaluate a model on the given dataset\n",
    "    \"\"\"\n",
    "    # Load tokenizer and model\n",
    "    tokenizer = AutoTokenizer.from_pretrained(tokenizer_name)\n",
    "    model = AutoModelForSequenceClassification.from_pretrained(model_name, num_labels=num_labels)\n",
    "    \n",
    "    # Define tokenization function with labels\n",
    "    def tokenize_function(examples):\n",
    "        tokenized = tokenizer(examples[text_column], padding=\"max_length\", truncation=True, max_length=128)\n",
    "        \n",
    "        # Add labels to the tokenized output\n",
    "        tokenized[\"labels\"] = examples[label_column]\n",
    "        \n",
    "        return tokenized\n",
    "    \n",
    "    # Apply tokenization\n",
    "    tokenized_train = train_dataset.map(tokenize_function, batched=True)\n",
    "    tokenized_val = val_dataset.map(tokenize_function, batched=True)\n",
    "    tokenized_test = test_dataset.map(tokenize_function, batched=True)\n",
    "    \n",
    "    # Training arguments\n",
    "    training_args = TrainingArguments(\n",
    "        output_dir=f'./results/{model_name}',\n",
    "        num_train_epochs=epochs,\n",
    "        per_device_train_batch_size=16,\n",
    "        per_device_eval_batch_size=64,\n",
    "        warmup_steps=500,\n",
    "        weight_decay=0.01,\n",
    "        logging_dir=f'./logs/{model_name}',\n",
    "        logging_steps=10,\n",
    "        report_to=\"none\"\n",
    "    )\n",
    "    \n",
    "    # Initialize Trainer\n",
    "    trainer = Trainer(\n",
    "        model=model,\n",
    "        args=training_args,\n",
    "        train_dataset=tokenized_train,\n",
    "        eval_dataset=tokenized_val,\n",
    "    )\n",
    "    \n",
    "    # Train the model\n",
    "    print(f\"Training {model_name}...\")\n",
    "    start_time = time.time()\n",
    "    trainer.train()\n",
    "    training_time = time.time() - start_time\n",
    "    print(f\"Training completed in {training_time:.2f} seconds\")\n",
    "    \n",
    "    # Save the model\n",
    "    trainer.save_model(f\"{output_dir}/best_model\")\n",
    "    \n",
    "    # Evaluate on test set\n",
    "    print(f\"Evaluating {model_name} on test set...\")\n",
    "    start_time = time.time()\n",
    "    predictions = trainer.predict(tokenized_test)\n",
    "    inference_time = time.time() - start_time\n",
    "    \n",
    "    # Process predictions\n",
    "    preds = np.argmax(predictions.predictions, axis=1)\n",
    "    labels = test_dataset[label_column]\n",
    "    \n",
    "    # Calculate metrics\n",
    "    accuracy = accuracy_score(labels, preds)\n",
    "    f1 = f1_score(labels, preds, average='weighted')\n",
    "    \n",
    "    # Generate classification report\n",
    "    report = classification_report(labels, preds, output_dict=True)\n",
    "    \n",
    "    # Generate confusion matrix\n",
    "    cm = confusion_matrix(labels, preds)\n",
    "    \n",
    "    # Plot confusion matrix\n",
    "    plt.figure(figsize=(10, 8))\n",
    "    sns.heatmap(cm, annot=True, fmt='d', cmap='Blues')\n",
    "    plt.title(f'Confusion Matrix - {model_name}')\n",
    "    plt.ylabel('True Label')\n",
    "    plt.xlabel('Predicted Label')\n",
    "    plt.savefig(f\"{output_dir}/confusion_matrix.png\")\n",
    "    plt.close()\n",
    "    \n",
    "    # Process inference time per sample\n",
    "    avg_inference_time = inference_time / len(test_dataset)\n",
    "    \n",
    "    results = {\n",
    "        'model_name': model_name,\n",
    "        'accuracy': accuracy,\n",
    "        'f1_score': f1,\n",
    "        'training_time': training_time,\n",
    "        'inference_time': inference_time,\n",
    "        'avg_inference_time_per_sample': avg_inference_time,\n",
    "        'classification_report': report\n",
    "    }\n",
    "    \n",
    "    return model, tokenizer, results"
   ]
  },
  {
   "cell_type": "code",
   "execution_count": 7,
   "metadata": {
    "execution": {
     "iopub.execute_input": "2025-04-21T19:38:01.919974Z",
     "iopub.status.busy": "2025-04-21T19:38:01.919662Z",
     "iopub.status.idle": "2025-04-21T19:38:01.928761Z",
     "shell.execute_reply": "2025-04-21T19:38:01.928001Z",
     "shell.execute_reply.started": "2025-04-21T19:38:01.919950Z"
    }
   },
   "outputs": [],
   "source": [
    "# Function to label unlabelled data\n",
    "def label_unlabelled_data(model, tokenizer, unlabelled_df, text_column, output_filename):\n",
    "    \"\"\"\n",
    "    Label unlabelled data using a trained model\n",
    "    \"\"\"\n",
    "    # Create a pipeline\n",
    "    nlp = pipeline(\"text-classification\", model=model, tokenizer=tokenizer, device=device if device.type == 'cuda' else -1, truncation=True, max_length=512)\n",
    "    \n",
    "    # Start timing\n",
    "    start_time = time.time()\n",
    "    \n",
    "    # Process in batches to avoid memory issues\n",
    "    batch_size = 32\n",
    "    labels = []\n",
    "    \n",
    "    # Convert all values to string - handle all types explicitly\n",
    "    texts = []\n",
    "    for item in unlabelled_df[text_column]:\n",
    "        if pd.isna(item):  # Check for NaN/None values\n",
    "            texts.append(\"\")\n",
    "        else:\n",
    "            texts.append(str(item))  # Convert everything else to string\n",
    "    \n",
    "    for i in tqdm(range(0, len(texts), batch_size)):\n",
    "        batch_texts = texts[i:i+batch_size]\n",
    "        # Filter out empty strings\n",
    "        valid_indices = []\n",
    "        valid_texts = []\n",
    "        \n",
    "        for j, text in enumerate(batch_texts):\n",
    "            if isinstance(text, str) and text.strip():\n",
    "                valid_indices.append(j)\n",
    "                valid_texts.append(text)\n",
    "        \n",
    "        if not valid_texts:  # Skip if batch has no valid texts\n",
    "            # Add default labels for all skipped texts\n",
    "            labels.extend([0] * len(batch_texts))\n",
    "            continue\n",
    "            \n",
    "        # Process valid texts\n",
    "        batch_results = nlp(valid_texts)\n",
    "        \n",
    "        # Create a list of predicted labels with default value 0\n",
    "        batch_predictions = [0] * len(batch_texts)\n",
    "        \n",
    "        # Replace default values with actual predictions for valid texts\n",
    "        for idx, result in zip(valid_indices, batch_results):\n",
    "            batch_predictions[idx] = int(result['label'].split('_')[-1])\n",
    "            \n",
    "        labels.extend(batch_predictions)\n",
    "    \n",
    "    end_time = time.time()\n",
    "    inference_time = end_time - start_time\n",
    "    \n",
    "    # Add predictions to dataframe\n",
    "    unlabelled_df['predicted_label'] = labels\n",
    "    \n",
    "    # Save to CSV\n",
    "    unlabelled_df.to_csv(output_filename, index=False)\n",
    "    \n",
    "    return unlabelled_df, inference_time"
   ]
  },
  {
   "cell_type": "code",
   "execution_count": 8,
   "metadata": {
    "execution": {
     "iopub.execute_input": "2025-04-21T19:38:08.739031Z",
     "iopub.status.busy": "2025-04-21T19:38:08.738723Z",
     "iopub.status.idle": "2025-04-21T19:43:35.449967Z",
     "shell.execute_reply": "2025-04-21T19:43:35.449404Z",
     "shell.execute_reply.started": "2025-04-21T19:38:08.739008Z"
    }
   },
   "outputs": [
    {
     "name": "stdout",
     "output_type": "stream",
     "text": [
      "\n",
      "======= Training BERT Model on Amazon Reviews Dataset =======\n"
     ]
    },
    {
     "data": {
      "application/vnd.jupyter.widget-view+json": {
       "model_id": "83b61981edf546e59e8c268aa552c2bc",
       "version_major": 2,
       "version_minor": 0
      },
      "text/plain": [
       "tokenizer_config.json:   0%|          | 0.00/48.0 [00:00<?, ?B/s]"
      ]
     },
     "metadata": {},
     "output_type": "display_data"
    },
    {
     "data": {
      "application/vnd.jupyter.widget-view+json": {
       "model_id": "6a28c35354cf4946805cb3090b037f7b",
       "version_major": 2,
       "version_minor": 0
      },
      "text/plain": [
       "config.json:   0%|          | 0.00/570 [00:00<?, ?B/s]"
      ]
     },
     "metadata": {},
     "output_type": "display_data"
    },
    {
     "data": {
      "application/vnd.jupyter.widget-view+json": {
       "model_id": "a3b72f1afc324e38b5885eb4c2a41fe5",
       "version_major": 2,
       "version_minor": 0
      },
      "text/plain": [
       "vocab.txt:   0%|          | 0.00/232k [00:00<?, ?B/s]"
      ]
     },
     "metadata": {},
     "output_type": "display_data"
    },
    {
     "data": {
      "application/vnd.jupyter.widget-view+json": {
       "model_id": "cf72be89116c45ecbb956b4bccce6b0f",
       "version_major": 2,
       "version_minor": 0
      },
      "text/plain": [
       "tokenizer.json:   0%|          | 0.00/466k [00:00<?, ?B/s]"
      ]
     },
     "metadata": {},
     "output_type": "display_data"
    },
    {
     "name": "stderr",
     "output_type": "stream",
     "text": [
      "Xet Storage is enabled for this repo, but the 'hf_xet' package is not installed. Falling back to regular HTTP download. For better performance, install the package with: `pip install huggingface_hub[hf_xet]` or `pip install hf_xet`\n"
     ]
    },
    {
     "data": {
      "application/vnd.jupyter.widget-view+json": {
       "model_id": "84fe38c36f7f40479daff2121ca9b000",
       "version_major": 2,
       "version_minor": 0
      },
      "text/plain": [
       "model.safetensors:   0%|          | 0.00/440M [00:00<?, ?B/s]"
      ]
     },
     "metadata": {},
     "output_type": "display_data"
    },
    {
     "name": "stderr",
     "output_type": "stream",
     "text": [
      "Some weights of BertForSequenceClassification were not initialized from the model checkpoint at bert-base-uncased and are newly initialized: ['classifier.bias', 'classifier.weight']\n",
      "You should probably TRAIN this model on a down-stream task to be able to use it for predictions and inference.\n"
     ]
    },
    {
     "data": {
      "application/vnd.jupyter.widget-view+json": {
       "model_id": "6a967f636b4a4388b5b98fc7d33edf75",
       "version_major": 2,
       "version_minor": 0
      },
      "text/plain": [
       "Map:   0%|          | 0/7000 [00:00<?, ? examples/s]"
      ]
     },
     "metadata": {},
     "output_type": "display_data"
    },
    {
     "data": {
      "application/vnd.jupyter.widget-view+json": {
       "model_id": "9b32229a661646bd964f09221673b469",
       "version_major": 2,
       "version_minor": 0
      },
      "text/plain": [
       "Map:   0%|          | 0/1500 [00:00<?, ? examples/s]"
      ]
     },
     "metadata": {},
     "output_type": "display_data"
    },
    {
     "data": {
      "application/vnd.jupyter.widget-view+json": {
       "model_id": "2b4d68d18f054a37b7b6c457cb5aae43",
       "version_major": 2,
       "version_minor": 0
      },
      "text/plain": [
       "Map:   0%|          | 0/1500 [00:00<?, ? examples/s]"
      ]
     },
     "metadata": {},
     "output_type": "display_data"
    },
    {
     "name": "stdout",
     "output_type": "stream",
     "text": [
      "Training bert-base-uncased...\n"
     ]
    },
    {
     "name": "stderr",
     "output_type": "stream",
     "text": [
      "/usr/local/lib/python3.11/dist-packages/torch/nn/parallel/_functions.py:71: UserWarning: Was asked to gather along dimension 0, but all input tensors were scalars; will instead unsqueeze and return a vector.\n",
      "  warnings.warn(\n"
     ]
    },
    {
     "data": {
      "text/html": [
       "\n",
       "    <div>\n",
       "      \n",
       "      <progress value='657' max='657' style='width:300px; height:20px; vertical-align: middle;'></progress>\n",
       "      [657/657 05:11, Epoch 3/3]\n",
       "    </div>\n",
       "    <table border=\"1\" class=\"dataframe\">\n",
       "  <thead>\n",
       " <tr style=\"text-align: left;\">\n",
       "      <th>Step</th>\n",
       "      <th>Training Loss</th>\n",
       "    </tr>\n",
       "  </thead>\n",
       "  <tbody>\n",
       "    <tr>\n",
       "      <td>10</td>\n",
       "      <td>0.691800</td>\n",
       "    </tr>\n",
       "    <tr>\n",
       "      <td>20</td>\n",
       "      <td>0.678200</td>\n",
       "    </tr>\n",
       "    <tr>\n",
       "      <td>30</td>\n",
       "      <td>0.687500</td>\n",
       "    </tr>\n",
       "    <tr>\n",
       "      <td>40</td>\n",
       "      <td>0.686400</td>\n",
       "    </tr>\n",
       "    <tr>\n",
       "      <td>50</td>\n",
       "      <td>0.661200</td>\n",
       "    </tr>\n",
       "    <tr>\n",
       "      <td>60</td>\n",
       "      <td>0.649300</td>\n",
       "    </tr>\n",
       "    <tr>\n",
       "      <td>70</td>\n",
       "      <td>0.597000</td>\n",
       "    </tr>\n",
       "    <tr>\n",
       "      <td>80</td>\n",
       "      <td>0.535200</td>\n",
       "    </tr>\n",
       "    <tr>\n",
       "      <td>90</td>\n",
       "      <td>0.465700</td>\n",
       "    </tr>\n",
       "    <tr>\n",
       "      <td>100</td>\n",
       "      <td>0.392000</td>\n",
       "    </tr>\n",
       "    <tr>\n",
       "      <td>110</td>\n",
       "      <td>0.358700</td>\n",
       "    </tr>\n",
       "    <tr>\n",
       "      <td>120</td>\n",
       "      <td>0.305600</td>\n",
       "    </tr>\n",
       "    <tr>\n",
       "      <td>130</td>\n",
       "      <td>0.281800</td>\n",
       "    </tr>\n",
       "    <tr>\n",
       "      <td>140</td>\n",
       "      <td>0.252800</td>\n",
       "    </tr>\n",
       "    <tr>\n",
       "      <td>150</td>\n",
       "      <td>0.252800</td>\n",
       "    </tr>\n",
       "    <tr>\n",
       "      <td>160</td>\n",
       "      <td>0.253700</td>\n",
       "    </tr>\n",
       "    <tr>\n",
       "      <td>170</td>\n",
       "      <td>0.212000</td>\n",
       "    </tr>\n",
       "    <tr>\n",
       "      <td>180</td>\n",
       "      <td>0.216800</td>\n",
       "    </tr>\n",
       "    <tr>\n",
       "      <td>190</td>\n",
       "      <td>0.184700</td>\n",
       "    </tr>\n",
       "    <tr>\n",
       "      <td>200</td>\n",
       "      <td>0.232500</td>\n",
       "    </tr>\n",
       "    <tr>\n",
       "      <td>210</td>\n",
       "      <td>0.199300</td>\n",
       "    </tr>\n",
       "    <tr>\n",
       "      <td>220</td>\n",
       "      <td>0.218700</td>\n",
       "    </tr>\n",
       "    <tr>\n",
       "      <td>230</td>\n",
       "      <td>0.137900</td>\n",
       "    </tr>\n",
       "    <tr>\n",
       "      <td>240</td>\n",
       "      <td>0.252200</td>\n",
       "    </tr>\n",
       "    <tr>\n",
       "      <td>250</td>\n",
       "      <td>0.284400</td>\n",
       "    </tr>\n",
       "    <tr>\n",
       "      <td>260</td>\n",
       "      <td>0.178400</td>\n",
       "    </tr>\n",
       "    <tr>\n",
       "      <td>270</td>\n",
       "      <td>0.250700</td>\n",
       "    </tr>\n",
       "    <tr>\n",
       "      <td>280</td>\n",
       "      <td>0.254400</td>\n",
       "    </tr>\n",
       "    <tr>\n",
       "      <td>290</td>\n",
       "      <td>0.116100</td>\n",
       "    </tr>\n",
       "    <tr>\n",
       "      <td>300</td>\n",
       "      <td>0.188300</td>\n",
       "    </tr>\n",
       "    <tr>\n",
       "      <td>310</td>\n",
       "      <td>0.138900</td>\n",
       "    </tr>\n",
       "    <tr>\n",
       "      <td>320</td>\n",
       "      <td>0.255400</td>\n",
       "    </tr>\n",
       "    <tr>\n",
       "      <td>330</td>\n",
       "      <td>0.189100</td>\n",
       "    </tr>\n",
       "    <tr>\n",
       "      <td>340</td>\n",
       "      <td>0.178600</td>\n",
       "    </tr>\n",
       "    <tr>\n",
       "      <td>350</td>\n",
       "      <td>0.166900</td>\n",
       "    </tr>\n",
       "    <tr>\n",
       "      <td>360</td>\n",
       "      <td>0.180300</td>\n",
       "    </tr>\n",
       "    <tr>\n",
       "      <td>370</td>\n",
       "      <td>0.134600</td>\n",
       "    </tr>\n",
       "    <tr>\n",
       "      <td>380</td>\n",
       "      <td>0.141900</td>\n",
       "    </tr>\n",
       "    <tr>\n",
       "      <td>390</td>\n",
       "      <td>0.157400</td>\n",
       "    </tr>\n",
       "    <tr>\n",
       "      <td>400</td>\n",
       "      <td>0.137300</td>\n",
       "    </tr>\n",
       "    <tr>\n",
       "      <td>410</td>\n",
       "      <td>0.187800</td>\n",
       "    </tr>\n",
       "    <tr>\n",
       "      <td>420</td>\n",
       "      <td>0.166700</td>\n",
       "    </tr>\n",
       "    <tr>\n",
       "      <td>430</td>\n",
       "      <td>0.258900</td>\n",
       "    </tr>\n",
       "    <tr>\n",
       "      <td>440</td>\n",
       "      <td>0.159200</td>\n",
       "    </tr>\n",
       "    <tr>\n",
       "      <td>450</td>\n",
       "      <td>0.152000</td>\n",
       "    </tr>\n",
       "    <tr>\n",
       "      <td>460</td>\n",
       "      <td>0.086700</td>\n",
       "    </tr>\n",
       "    <tr>\n",
       "      <td>470</td>\n",
       "      <td>0.173400</td>\n",
       "    </tr>\n",
       "    <tr>\n",
       "      <td>480</td>\n",
       "      <td>0.112700</td>\n",
       "    </tr>\n",
       "    <tr>\n",
       "      <td>490</td>\n",
       "      <td>0.077900</td>\n",
       "    </tr>\n",
       "    <tr>\n",
       "      <td>500</td>\n",
       "      <td>0.190500</td>\n",
       "    </tr>\n",
       "    <tr>\n",
       "      <td>510</td>\n",
       "      <td>0.128800</td>\n",
       "    </tr>\n",
       "    <tr>\n",
       "      <td>520</td>\n",
       "      <td>0.069400</td>\n",
       "    </tr>\n",
       "    <tr>\n",
       "      <td>530</td>\n",
       "      <td>0.109900</td>\n",
       "    </tr>\n",
       "    <tr>\n",
       "      <td>540</td>\n",
       "      <td>0.136800</td>\n",
       "    </tr>\n",
       "    <tr>\n",
       "      <td>550</td>\n",
       "      <td>0.109600</td>\n",
       "    </tr>\n",
       "    <tr>\n",
       "      <td>560</td>\n",
       "      <td>0.053400</td>\n",
       "    </tr>\n",
       "    <tr>\n",
       "      <td>570</td>\n",
       "      <td>0.108900</td>\n",
       "    </tr>\n",
       "    <tr>\n",
       "      <td>580</td>\n",
       "      <td>0.105500</td>\n",
       "    </tr>\n",
       "    <tr>\n",
       "      <td>590</td>\n",
       "      <td>0.109300</td>\n",
       "    </tr>\n",
       "    <tr>\n",
       "      <td>600</td>\n",
       "      <td>0.146900</td>\n",
       "    </tr>\n",
       "    <tr>\n",
       "      <td>610</td>\n",
       "      <td>0.077200</td>\n",
       "    </tr>\n",
       "    <tr>\n",
       "      <td>620</td>\n",
       "      <td>0.079900</td>\n",
       "    </tr>\n",
       "    <tr>\n",
       "      <td>630</td>\n",
       "      <td>0.042700</td>\n",
       "    </tr>\n",
       "    <tr>\n",
       "      <td>640</td>\n",
       "      <td>0.077100</td>\n",
       "    </tr>\n",
       "    <tr>\n",
       "      <td>650</td>\n",
       "      <td>0.092500</td>\n",
       "    </tr>\n",
       "  </tbody>\n",
       "</table><p>"
      ],
      "text/plain": [
       "<IPython.core.display.HTML object>"
      ]
     },
     "metadata": {},
     "output_type": "display_data"
    },
    {
     "name": "stderr",
     "output_type": "stream",
     "text": [
      "/usr/local/lib/python3.11/dist-packages/torch/nn/parallel/_functions.py:71: UserWarning: Was asked to gather along dimension 0, but all input tensors were scalars; will instead unsqueeze and return a vector.\n",
      "  warnings.warn(\n"
     ]
    },
    {
     "name": "stdout",
     "output_type": "stream",
     "text": [
      "Training completed in 313.76 seconds\n",
      "Evaluating bert-base-uncased on test set...\n"
     ]
    },
    {
     "name": "stderr",
     "output_type": "stream",
     "text": [
      "/usr/local/lib/python3.11/dist-packages/torch/nn/parallel/_functions.py:71: UserWarning: Was asked to gather along dimension 0, but all input tensors were scalars; will instead unsqueeze and return a vector.\n",
      "  warnings.warn(\n"
     ]
    },
    {
     "data": {
      "text/html": [],
      "text/plain": [
       "<IPython.core.display.HTML object>"
      ]
     },
     "metadata": {},
     "output_type": "display_data"
    }
   ],
   "source": [
    "# Train and evaluate BERT model on Amazon Reviews dataset\n",
    "print(\"\\n======= Training BERT Model on Amazon Reviews Dataset =======\")\n",
    "\n",
    "# BERT model for Amazon Reviews\n",
    "bert_amazon_model, bert_amazon_tokenizer, bert_amazon_results = train_evaluate_model(\n",
    "    model_name=\"bert-base-uncased\",\n",
    "    tokenizer_name=\"bert-base-uncased\",\n",
    "    train_dataset=amazon_datasets['train'],\n",
    "    val_dataset=amazon_datasets['validation'],\n",
    "    test_dataset=amazon_datasets['test'],\n",
    "    text_column=\"Review\",\n",
    "    label_column=\"Label\",\n",
    "    num_labels=2,\n",
    "    output_dir=\"./results/amazon/bert\",\n",
    "    epochs=3\n",
    ")"
   ]
  },
  {
   "cell_type": "code",
   "execution_count": 9,
   "metadata": {
    "execution": {
     "iopub.execute_input": "2025-04-21T19:43:35.451771Z",
     "iopub.status.busy": "2025-04-21T19:43:35.451567Z",
     "iopub.status.idle": "2025-04-21T19:46:29.466111Z",
     "shell.execute_reply": "2025-04-21T19:46:29.465540Z",
     "shell.execute_reply.started": "2025-04-21T19:43:35.451756Z"
    }
   },
   "outputs": [
    {
     "name": "stdout",
     "output_type": "stream",
     "text": [
      "\n",
      "======= Training DistilBERT Model on Amazon Reviews Dataset =======\n"
     ]
    },
    {
     "data": {
      "application/vnd.jupyter.widget-view+json": {
       "model_id": "54ee6175c6f34bba81141060b68539ca",
       "version_major": 2,
       "version_minor": 0
      },
      "text/plain": [
       "tokenizer_config.json:   0%|          | 0.00/48.0 [00:00<?, ?B/s]"
      ]
     },
     "metadata": {},
     "output_type": "display_data"
    },
    {
     "data": {
      "application/vnd.jupyter.widget-view+json": {
       "model_id": "ab89976f2af44056a4e6de043891f129",
       "version_major": 2,
       "version_minor": 0
      },
      "text/plain": [
       "config.json:   0%|          | 0.00/483 [00:00<?, ?B/s]"
      ]
     },
     "metadata": {},
     "output_type": "display_data"
    },
    {
     "data": {
      "application/vnd.jupyter.widget-view+json": {
       "model_id": "2130329951f04504b46594f9c83004e4",
       "version_major": 2,
       "version_minor": 0
      },
      "text/plain": [
       "vocab.txt:   0%|          | 0.00/232k [00:00<?, ?B/s]"
      ]
     },
     "metadata": {},
     "output_type": "display_data"
    },
    {
     "data": {
      "application/vnd.jupyter.widget-view+json": {
       "model_id": "f10e691b271d45bb9334d6af2b301843",
       "version_major": 2,
       "version_minor": 0
      },
      "text/plain": [
       "tokenizer.json:   0%|          | 0.00/466k [00:00<?, ?B/s]"
      ]
     },
     "metadata": {},
     "output_type": "display_data"
    },
    {
     "name": "stderr",
     "output_type": "stream",
     "text": [
      "Xet Storage is enabled for this repo, but the 'hf_xet' package is not installed. Falling back to regular HTTP download. For better performance, install the package with: `pip install huggingface_hub[hf_xet]` or `pip install hf_xet`\n"
     ]
    },
    {
     "data": {
      "application/vnd.jupyter.widget-view+json": {
       "model_id": "de5c9d3f9d2940419153c28063aaffd6",
       "version_major": 2,
       "version_minor": 0
      },
      "text/plain": [
       "model.safetensors:   0%|          | 0.00/268M [00:00<?, ?B/s]"
      ]
     },
     "metadata": {},
     "output_type": "display_data"
    },
    {
     "name": "stderr",
     "output_type": "stream",
     "text": [
      "Some weights of DistilBertForSequenceClassification were not initialized from the model checkpoint at distilbert-base-uncased and are newly initialized: ['classifier.bias', 'classifier.weight', 'pre_classifier.bias', 'pre_classifier.weight']\n",
      "You should probably TRAIN this model on a down-stream task to be able to use it for predictions and inference.\n"
     ]
    },
    {
     "data": {
      "application/vnd.jupyter.widget-view+json": {
       "model_id": "afc3a4a62d944391a1323102cf056c28",
       "version_major": 2,
       "version_minor": 0
      },
      "text/plain": [
       "Map:   0%|          | 0/7000 [00:00<?, ? examples/s]"
      ]
     },
     "metadata": {},
     "output_type": "display_data"
    },
    {
     "data": {
      "application/vnd.jupyter.widget-view+json": {
       "model_id": "98ca2a2825df4b948a77308519f8bfb3",
       "version_major": 2,
       "version_minor": 0
      },
      "text/plain": [
       "Map:   0%|          | 0/1500 [00:00<?, ? examples/s]"
      ]
     },
     "metadata": {},
     "output_type": "display_data"
    },
    {
     "data": {
      "application/vnd.jupyter.widget-view+json": {
       "model_id": "e51136083d524523a4650717fe70f66c",
       "version_major": 2,
       "version_minor": 0
      },
      "text/plain": [
       "Map:   0%|          | 0/1500 [00:00<?, ? examples/s]"
      ]
     },
     "metadata": {},
     "output_type": "display_data"
    },
    {
     "name": "stdout",
     "output_type": "stream",
     "text": [
      "Training distilbert-base-uncased...\n"
     ]
    },
    {
     "name": "stderr",
     "output_type": "stream",
     "text": [
      "/usr/local/lib/python3.11/dist-packages/torch/nn/parallel/_functions.py:71: UserWarning: Was asked to gather along dimension 0, but all input tensors were scalars; will instead unsqueeze and return a vector.\n",
      "  warnings.warn(\n"
     ]
    },
    {
     "data": {
      "text/html": [
       "\n",
       "    <div>\n",
       "      \n",
       "      <progress value='657' max='657' style='width:300px; height:20px; vertical-align: middle;'></progress>\n",
       "      [657/657 02:44, Epoch 3/3]\n",
       "    </div>\n",
       "    <table border=\"1\" class=\"dataframe\">\n",
       "  <thead>\n",
       " <tr style=\"text-align: left;\">\n",
       "      <th>Step</th>\n",
       "      <th>Training Loss</th>\n",
       "    </tr>\n",
       "  </thead>\n",
       "  <tbody>\n",
       "    <tr>\n",
       "      <td>10</td>\n",
       "      <td>0.708000</td>\n",
       "    </tr>\n",
       "    <tr>\n",
       "      <td>20</td>\n",
       "      <td>0.713000</td>\n",
       "    </tr>\n",
       "    <tr>\n",
       "      <td>30</td>\n",
       "      <td>0.697200</td>\n",
       "    </tr>\n",
       "    <tr>\n",
       "      <td>40</td>\n",
       "      <td>0.693600</td>\n",
       "    </tr>\n",
       "    <tr>\n",
       "      <td>50</td>\n",
       "      <td>0.682400</td>\n",
       "    </tr>\n",
       "    <tr>\n",
       "      <td>60</td>\n",
       "      <td>0.679600</td>\n",
       "    </tr>\n",
       "    <tr>\n",
       "      <td>70</td>\n",
       "      <td>0.673300</td>\n",
       "    </tr>\n",
       "    <tr>\n",
       "      <td>80</td>\n",
       "      <td>0.632000</td>\n",
       "    </tr>\n",
       "    <tr>\n",
       "      <td>90</td>\n",
       "      <td>0.548400</td>\n",
       "    </tr>\n",
       "    <tr>\n",
       "      <td>100</td>\n",
       "      <td>0.418400</td>\n",
       "    </tr>\n",
       "    <tr>\n",
       "      <td>110</td>\n",
       "      <td>0.329600</td>\n",
       "    </tr>\n",
       "    <tr>\n",
       "      <td>120</td>\n",
       "      <td>0.267400</td>\n",
       "    </tr>\n",
       "    <tr>\n",
       "      <td>130</td>\n",
       "      <td>0.278300</td>\n",
       "    </tr>\n",
       "    <tr>\n",
       "      <td>140</td>\n",
       "      <td>0.325800</td>\n",
       "    </tr>\n",
       "    <tr>\n",
       "      <td>150</td>\n",
       "      <td>0.298300</td>\n",
       "    </tr>\n",
       "    <tr>\n",
       "      <td>160</td>\n",
       "      <td>0.254600</td>\n",
       "    </tr>\n",
       "    <tr>\n",
       "      <td>170</td>\n",
       "      <td>0.254400</td>\n",
       "    </tr>\n",
       "    <tr>\n",
       "      <td>180</td>\n",
       "      <td>0.211100</td>\n",
       "    </tr>\n",
       "    <tr>\n",
       "      <td>190</td>\n",
       "      <td>0.205800</td>\n",
       "    </tr>\n",
       "    <tr>\n",
       "      <td>200</td>\n",
       "      <td>0.253500</td>\n",
       "    </tr>\n",
       "    <tr>\n",
       "      <td>210</td>\n",
       "      <td>0.261600</td>\n",
       "    </tr>\n",
       "    <tr>\n",
       "      <td>220</td>\n",
       "      <td>0.259900</td>\n",
       "    </tr>\n",
       "    <tr>\n",
       "      <td>230</td>\n",
       "      <td>0.157400</td>\n",
       "    </tr>\n",
       "    <tr>\n",
       "      <td>240</td>\n",
       "      <td>0.202700</td>\n",
       "    </tr>\n",
       "    <tr>\n",
       "      <td>250</td>\n",
       "      <td>0.222600</td>\n",
       "    </tr>\n",
       "    <tr>\n",
       "      <td>260</td>\n",
       "      <td>0.158800</td>\n",
       "    </tr>\n",
       "    <tr>\n",
       "      <td>270</td>\n",
       "      <td>0.205100</td>\n",
       "    </tr>\n",
       "    <tr>\n",
       "      <td>280</td>\n",
       "      <td>0.194700</td>\n",
       "    </tr>\n",
       "    <tr>\n",
       "      <td>290</td>\n",
       "      <td>0.159100</td>\n",
       "    </tr>\n",
       "    <tr>\n",
       "      <td>300</td>\n",
       "      <td>0.218700</td>\n",
       "    </tr>\n",
       "    <tr>\n",
       "      <td>310</td>\n",
       "      <td>0.136400</td>\n",
       "    </tr>\n",
       "    <tr>\n",
       "      <td>320</td>\n",
       "      <td>0.165100</td>\n",
       "    </tr>\n",
       "    <tr>\n",
       "      <td>330</td>\n",
       "      <td>0.272000</td>\n",
       "    </tr>\n",
       "    <tr>\n",
       "      <td>340</td>\n",
       "      <td>0.246200</td>\n",
       "    </tr>\n",
       "    <tr>\n",
       "      <td>350</td>\n",
       "      <td>0.167300</td>\n",
       "    </tr>\n",
       "    <tr>\n",
       "      <td>360</td>\n",
       "      <td>0.201100</td>\n",
       "    </tr>\n",
       "    <tr>\n",
       "      <td>370</td>\n",
       "      <td>0.143000</td>\n",
       "    </tr>\n",
       "    <tr>\n",
       "      <td>380</td>\n",
       "      <td>0.140500</td>\n",
       "    </tr>\n",
       "    <tr>\n",
       "      <td>390</td>\n",
       "      <td>0.177100</td>\n",
       "    </tr>\n",
       "    <tr>\n",
       "      <td>400</td>\n",
       "      <td>0.183100</td>\n",
       "    </tr>\n",
       "    <tr>\n",
       "      <td>410</td>\n",
       "      <td>0.149300</td>\n",
       "    </tr>\n",
       "    <tr>\n",
       "      <td>420</td>\n",
       "      <td>0.171700</td>\n",
       "    </tr>\n",
       "    <tr>\n",
       "      <td>430</td>\n",
       "      <td>0.236600</td>\n",
       "    </tr>\n",
       "    <tr>\n",
       "      <td>440</td>\n",
       "      <td>0.173100</td>\n",
       "    </tr>\n",
       "    <tr>\n",
       "      <td>450</td>\n",
       "      <td>0.158500</td>\n",
       "    </tr>\n",
       "    <tr>\n",
       "      <td>460</td>\n",
       "      <td>0.150500</td>\n",
       "    </tr>\n",
       "    <tr>\n",
       "      <td>470</td>\n",
       "      <td>0.135500</td>\n",
       "    </tr>\n",
       "    <tr>\n",
       "      <td>480</td>\n",
       "      <td>0.070800</td>\n",
       "    </tr>\n",
       "    <tr>\n",
       "      <td>490</td>\n",
       "      <td>0.093200</td>\n",
       "    </tr>\n",
       "    <tr>\n",
       "      <td>500</td>\n",
       "      <td>0.179400</td>\n",
       "    </tr>\n",
       "    <tr>\n",
       "      <td>510</td>\n",
       "      <td>0.169300</td>\n",
       "    </tr>\n",
       "    <tr>\n",
       "      <td>520</td>\n",
       "      <td>0.076000</td>\n",
       "    </tr>\n",
       "    <tr>\n",
       "      <td>530</td>\n",
       "      <td>0.186400</td>\n",
       "    </tr>\n",
       "    <tr>\n",
       "      <td>540</td>\n",
       "      <td>0.093500</td>\n",
       "    </tr>\n",
       "    <tr>\n",
       "      <td>550</td>\n",
       "      <td>0.122400</td>\n",
       "    </tr>\n",
       "    <tr>\n",
       "      <td>560</td>\n",
       "      <td>0.063200</td>\n",
       "    </tr>\n",
       "    <tr>\n",
       "      <td>570</td>\n",
       "      <td>0.081500</td>\n",
       "    </tr>\n",
       "    <tr>\n",
       "      <td>580</td>\n",
       "      <td>0.119500</td>\n",
       "    </tr>\n",
       "    <tr>\n",
       "      <td>590</td>\n",
       "      <td>0.165400</td>\n",
       "    </tr>\n",
       "    <tr>\n",
       "      <td>600</td>\n",
       "      <td>0.110600</td>\n",
       "    </tr>\n",
       "    <tr>\n",
       "      <td>610</td>\n",
       "      <td>0.124700</td>\n",
       "    </tr>\n",
       "    <tr>\n",
       "      <td>620</td>\n",
       "      <td>0.090600</td>\n",
       "    </tr>\n",
       "    <tr>\n",
       "      <td>630</td>\n",
       "      <td>0.091800</td>\n",
       "    </tr>\n",
       "    <tr>\n",
       "      <td>640</td>\n",
       "      <td>0.086100</td>\n",
       "    </tr>\n",
       "    <tr>\n",
       "      <td>650</td>\n",
       "      <td>0.110400</td>\n",
       "    </tr>\n",
       "  </tbody>\n",
       "</table><p>"
      ],
      "text/plain": [
       "<IPython.core.display.HTML object>"
      ]
     },
     "metadata": {},
     "output_type": "display_data"
    },
    {
     "name": "stderr",
     "output_type": "stream",
     "text": [
      "/usr/local/lib/python3.11/dist-packages/torch/nn/parallel/_functions.py:71: UserWarning: Was asked to gather along dimension 0, but all input tensors were scalars; will instead unsqueeze and return a vector.\n",
      "  warnings.warn(\n"
     ]
    },
    {
     "name": "stdout",
     "output_type": "stream",
     "text": [
      "Training completed in 165.69 seconds\n",
      "Evaluating distilbert-base-uncased on test set...\n"
     ]
    },
    {
     "name": "stderr",
     "output_type": "stream",
     "text": [
      "/usr/local/lib/python3.11/dist-packages/torch/nn/parallel/_functions.py:71: UserWarning: Was asked to gather along dimension 0, but all input tensors were scalars; will instead unsqueeze and return a vector.\n",
      "  warnings.warn(\n"
     ]
    },
    {
     "data": {
      "text/html": [],
      "text/plain": [
       "<IPython.core.display.HTML object>"
      ]
     },
     "metadata": {},
     "output_type": "display_data"
    }
   ],
   "source": [
    "# Train and evaluate DistilBERT model on Amazon Reviews dataset\n",
    "print(\"\\n======= Training DistilBERT Model on Amazon Reviews Dataset =======\")\n",
    "\n",
    "# DistilBERT model for Amazon Reviews\n",
    "distilbert_amazon_model, distilbert_amazon_tokenizer, distilbert_amazon_results = train_evaluate_model(\n",
    "    model_name=\"distilbert-base-uncased\",\n",
    "    tokenizer_name=\"distilbert-base-uncased\",\n",
    "    train_dataset=amazon_datasets['train'],\n",
    "    val_dataset=amazon_datasets['validation'],\n",
    "    test_dataset=amazon_datasets['test'],\n",
    "    text_column=\"Review\",\n",
    "    label_column=\"Label\",\n",
    "    num_labels=2,\n",
    "    output_dir=\"./results/amazon/distilbert\",\n",
    "    epochs=3\n",
    ")"
   ]
  },
  {
   "cell_type": "code",
   "execution_count": 10,
   "metadata": {
    "execution": {
     "iopub.execute_input": "2025-04-21T19:46:29.467300Z",
     "iopub.status.busy": "2025-04-21T19:46:29.467064Z",
     "iopub.status.idle": "2025-04-21T19:54:40.258309Z",
     "shell.execute_reply": "2025-04-21T19:54:40.257752Z",
     "shell.execute_reply.started": "2025-04-21T19:46:29.467284Z"
    }
   },
   "outputs": [
    {
     "name": "stdout",
     "output_type": "stream",
     "text": [
      "\n",
      "======= Training GPT-2 Model on Amazon Reviews Dataset =======\n"
     ]
    },
    {
     "data": {
      "application/vnd.jupyter.widget-view+json": {
       "model_id": "501d2be4e13e4a99a84aa10ffd74bb09",
       "version_major": 2,
       "version_minor": 0
      },
      "text/plain": [
       "tokenizer_config.json:   0%|          | 0.00/26.0 [00:00<?, ?B/s]"
      ]
     },
     "metadata": {},
     "output_type": "display_data"
    },
    {
     "data": {
      "application/vnd.jupyter.widget-view+json": {
       "model_id": "bb5d427b5d6a464aade091cdd51f672a",
       "version_major": 2,
       "version_minor": 0
      },
      "text/plain": [
       "vocab.json:   0%|          | 0.00/1.04M [00:00<?, ?B/s]"
      ]
     },
     "metadata": {},
     "output_type": "display_data"
    },
    {
     "data": {
      "application/vnd.jupyter.widget-view+json": {
       "model_id": "0d5fc14c82c74d828ac9b8ad3bc7f194",
       "version_major": 2,
       "version_minor": 0
      },
      "text/plain": [
       "merges.txt:   0%|          | 0.00/456k [00:00<?, ?B/s]"
      ]
     },
     "metadata": {},
     "output_type": "display_data"
    },
    {
     "data": {
      "application/vnd.jupyter.widget-view+json": {
       "model_id": "bb6afb92e75b4cc99564828ea9ef0b90",
       "version_major": 2,
       "version_minor": 0
      },
      "text/plain": [
       "tokenizer.json:   0%|          | 0.00/1.36M [00:00<?, ?B/s]"
      ]
     },
     "metadata": {},
     "output_type": "display_data"
    },
    {
     "data": {
      "application/vnd.jupyter.widget-view+json": {
       "model_id": "50295b00df07437995b5f15f56e99c9f",
       "version_major": 2,
       "version_minor": 0
      },
      "text/plain": [
       "config.json:   0%|          | 0.00/665 [00:00<?, ?B/s]"
      ]
     },
     "metadata": {},
     "output_type": "display_data"
    },
    {
     "name": "stderr",
     "output_type": "stream",
     "text": [
      "Xet Storage is enabled for this repo, but the 'hf_xet' package is not installed. Falling back to regular HTTP download. For better performance, install the package with: `pip install huggingface_hub[hf_xet]` or `pip install hf_xet`\n"
     ]
    },
    {
     "data": {
      "application/vnd.jupyter.widget-view+json": {
       "model_id": "48a8e4eb119844e6a7beefc94ea014fa",
       "version_major": 2,
       "version_minor": 0
      },
      "text/plain": [
       "model.safetensors:   0%|          | 0.00/548M [00:00<?, ?B/s]"
      ]
     },
     "metadata": {},
     "output_type": "display_data"
    },
    {
     "name": "stderr",
     "output_type": "stream",
     "text": [
      "Some weights of GPT2ForSequenceClassification were not initialized from the model checkpoint at gpt2 and are newly initialized: ['score.weight']\n",
      "You should probably TRAIN this model on a down-stream task to be able to use it for predictions and inference.\n"
     ]
    },
    {
     "data": {
      "application/vnd.jupyter.widget-view+json": {
       "model_id": "9825cd1baf4248afa3b3aeaa1faacb12",
       "version_major": 2,
       "version_minor": 0
      },
      "text/plain": [
       "Map:   0%|          | 0/7000 [00:00<?, ? examples/s]"
      ]
     },
     "metadata": {},
     "output_type": "display_data"
    },
    {
     "data": {
      "application/vnd.jupyter.widget-view+json": {
       "model_id": "17ad0cfb9208430db9da46c6479ff8a4",
       "version_major": 2,
       "version_minor": 0
      },
      "text/plain": [
       "Map:   0%|          | 0/1500 [00:00<?, ? examples/s]"
      ]
     },
     "metadata": {},
     "output_type": "display_data"
    },
    {
     "data": {
      "application/vnd.jupyter.widget-view+json": {
       "model_id": "2e8942e94eec4744b69d38e99e10e1ec",
       "version_major": 2,
       "version_minor": 0
      },
      "text/plain": [
       "Map:   0%|          | 0/1500 [00:00<?, ? examples/s]"
      ]
     },
     "metadata": {},
     "output_type": "display_data"
    },
    {
     "name": "stdout",
     "output_type": "stream",
     "text": [
      "Training GPT2 for Amazon Reviews...\n"
     ]
    },
    {
     "name": "stderr",
     "output_type": "stream",
     "text": [
      "/usr/local/lib/python3.11/dist-packages/torch/nn/parallel/_functions.py:71: UserWarning: Was asked to gather along dimension 0, but all input tensors were scalars; will instead unsqueeze and return a vector.\n",
      "  warnings.warn(\n"
     ]
    },
    {
     "data": {
      "text/html": [
       "\n",
       "    <div>\n",
       "      \n",
       "      <progress value='1314' max='1314' style='width:300px; height:20px; vertical-align: middle;'></progress>\n",
       "      [1314/1314 07:45, Epoch 3/3]\n",
       "    </div>\n",
       "    <table border=\"1\" class=\"dataframe\">\n",
       "  <thead>\n",
       " <tr style=\"text-align: left;\">\n",
       "      <th>Step</th>\n",
       "      <th>Training Loss</th>\n",
       "    </tr>\n",
       "  </thead>\n",
       "  <tbody>\n",
       "    <tr>\n",
       "      <td>100</td>\n",
       "      <td>1.003300</td>\n",
       "    </tr>\n",
       "    <tr>\n",
       "      <td>200</td>\n",
       "      <td>0.425900</td>\n",
       "    </tr>\n",
       "    <tr>\n",
       "      <td>300</td>\n",
       "      <td>0.290100</td>\n",
       "    </tr>\n",
       "    <tr>\n",
       "      <td>400</td>\n",
       "      <td>0.277100</td>\n",
       "    </tr>\n",
       "    <tr>\n",
       "      <td>500</td>\n",
       "      <td>0.270800</td>\n",
       "    </tr>\n",
       "    <tr>\n",
       "      <td>600</td>\n",
       "      <td>0.223800</td>\n",
       "    </tr>\n",
       "    <tr>\n",
       "      <td>700</td>\n",
       "      <td>0.211400</td>\n",
       "    </tr>\n",
       "    <tr>\n",
       "      <td>800</td>\n",
       "      <td>0.176200</td>\n",
       "    </tr>\n",
       "    <tr>\n",
       "      <td>900</td>\n",
       "      <td>0.176800</td>\n",
       "    </tr>\n",
       "    <tr>\n",
       "      <td>1000</td>\n",
       "      <td>0.140800</td>\n",
       "    </tr>\n",
       "    <tr>\n",
       "      <td>1100</td>\n",
       "      <td>0.106200</td>\n",
       "    </tr>\n",
       "    <tr>\n",
       "      <td>1200</td>\n",
       "      <td>0.101100</td>\n",
       "    </tr>\n",
       "    <tr>\n",
       "      <td>1300</td>\n",
       "      <td>0.080600</td>\n",
       "    </tr>\n",
       "  </tbody>\n",
       "</table><p>"
      ],
      "text/plain": [
       "<IPython.core.display.HTML object>"
      ]
     },
     "metadata": {},
     "output_type": "display_data"
    },
    {
     "name": "stderr",
     "output_type": "stream",
     "text": [
      "/usr/local/lib/python3.11/dist-packages/torch/nn/parallel/_functions.py:71: UserWarning: Was asked to gather along dimension 0, but all input tensors were scalars; will instead unsqueeze and return a vector.\n",
      "  warnings.warn(\n",
      "/usr/local/lib/python3.11/dist-packages/torch/nn/parallel/_functions.py:71: UserWarning: Was asked to gather along dimension 0, but all input tensors were scalars; will instead unsqueeze and return a vector.\n",
      "  warnings.warn(\n"
     ]
    },
    {
     "name": "stdout",
     "output_type": "stream",
     "text": [
      "GPT2 training completed in 466.44 seconds\n",
      "Evaluating GPT2 on Amazon Reviews test set...\n"
     ]
    },
    {
     "name": "stderr",
     "output_type": "stream",
     "text": [
      "/usr/local/lib/python3.11/dist-packages/torch/nn/parallel/_functions.py:71: UserWarning: Was asked to gather along dimension 0, but all input tensors were scalars; will instead unsqueeze and return a vector.\n",
      "  warnings.warn(\n"
     ]
    },
    {
     "data": {
      "text/html": [],
      "text/plain": [
       "<IPython.core.display.HTML object>"
      ]
     },
     "metadata": {},
     "output_type": "display_data"
    }
   ],
   "source": [
    "# Train and evaluate GPT-2 model on Amazon Reviews dataset\n",
    "print(\"\\n======= Training GPT-2 Model on Amazon Reviews Dataset =======\")\n",
    "\n",
    "# GPT2 model for Amazon Reviews (with special handling for GPT2)\n",
    "# GPT2 tokenizer requires padding token to be set\n",
    "gpt2_tokenizer = GPT2Tokenizer.from_pretrained(\"gpt2\")\n",
    "gpt2_tokenizer.pad_token = gpt2_tokenizer.eos_token\n",
    "model_name = \"gpt2\"\n",
    "model = GPT2ForSequenceClassification.from_pretrained(model_name, num_labels=2)\n",
    "model.config.pad_token_id = gpt2_tokenizer.eos_token_id\n",
    "\n",
    "# Define tokenization function for GPT2\n",
    "def tokenize_gpt2(examples):\n",
    "    tokenized = gpt2_tokenizer(examples[\"Review\"], padding=\"max_length\", truncation=True, max_length=128)\n",
    "\n",
    "    # Add labels to the tokenized output\n",
    "    tokenized[\"labels\"] = examples[\"Label\"]\n",
    "    \n",
    "    return tokenized\n",
    "\n",
    "# Apply tokenization\n",
    "tokenized_train_gpt2 = amazon_datasets['train'].map(tokenize_gpt2, batched=True)\n",
    "tokenized_val_gpt2 = amazon_datasets['validation'].map(tokenize_gpt2, batched=True)\n",
    "tokenized_test_gpt2 = amazon_datasets['test'].map(tokenize_gpt2, batched=True)\n",
    "\n",
    "# Training arguments for GPT2\n",
    "training_args_gpt2 = TrainingArguments(\n",
    "    output_dir=f'./results/{model_name}',\n",
    "    num_train_epochs=3,\n",
    "    per_device_train_batch_size=8,\n",
    "    per_device_eval_batch_size=32,\n",
    "    warmup_steps=500,\n",
    "    weight_decay=0.01,\n",
    "    logging_dir=f'./logs/{model_name}',\n",
    "    logging_steps=100,\n",
    "    report_to=\"none\"\n",
    ")\n",
    "\n",
    "# Initialize Trainer for GPT2\n",
    "gpt2_trainer = Trainer(\n",
    "    model=model,\n",
    "    args=training_args_gpt2,\n",
    "    train_dataset=tokenized_train_gpt2,\n",
    "    eval_dataset=tokenized_val_gpt2,\n",
    ")\n",
    "\n",
    "# Train GPT2 model\n",
    "print(\"Training GPT2 for Amazon Reviews...\")\n",
    "start_time = time.time()\n",
    "gpt2_trainer.train()\n",
    "gpt2_training_time = time.time() - start_time\n",
    "print(f\"GPT2 training completed in {gpt2_training_time:.2f} seconds\")\n",
    "\n",
    "# Save the model\n",
    "gpt2_trainer.save_model(\"./results/amazon/gpt2/best_model\")\n",
    "\n",
    "# Evaluate GPT2 on test set\n",
    "print(\"Evaluating GPT2 on Amazon Reviews test set...\")\n",
    "start_time = time.time()\n",
    "gpt2_predictions = gpt2_trainer.predict(tokenized_test_gpt2)\n",
    "gpt2_inference_time = time.time() - start_time\n",
    "\n",
    "# Process GPT2 predictions\n",
    "gpt2_preds = np.argmax(gpt2_predictions.predictions, axis=1)\n",
    "gpt2_labels = amazon_datasets['test'][\"Label\"]\n",
    "\n",
    "# Calculate metrics for GPT2\n",
    "gpt2_accuracy = accuracy_score(gpt2_labels, gpt2_preds)\n",
    "gpt2_f1 = f1_score(gpt2_labels, gpt2_preds, average='weighted')\n",
    "\n",
    "# Generate classification report for GPT2\n",
    "gpt2_report = classification_report(gpt2_labels, gpt2_preds, output_dict=True)\n",
    "\n",
    "# Generate confusion matrix for GPT2\n",
    "gpt2_cm = confusion_matrix(gpt2_labels, gpt2_preds)\n",
    "\n",
    "# Plot confusion matrix for GPT2\n",
    "plt.figure(figsize=(10, 8))\n",
    "sns.heatmap(gpt2_cm, annot=True, fmt='d', cmap='Blues')\n",
    "plt.title('Confusion Matrix - GPT2 (Amazon Reviews)')\n",
    "plt.ylabel('True Label')\n",
    "plt.xlabel('Predicted Label')\n",
    "plt.savefig(\"./results/amazon/gpt2/confusion_matrix.png\")\n",
    "plt.close()\n",
    "\n",
    "# Process inference time per sample for GPT2\n",
    "gpt2_avg_inference_time = gpt2_inference_time / len(amazon_datasets['test'])\n",
    "\n",
    "gpt2_amazon_results = {\n",
    "    'model_name': \"gpt2\",\n",
    "    'accuracy': gpt2_accuracy,\n",
    "    'f1_score': gpt2_f1,\n",
    "    'training_time': gpt2_training_time,\n",
    "    'inference_time': gpt2_inference_time,\n",
    "    'avg_inference_time_per_sample': gpt2_avg_inference_time,\n",
    "    'classification_report': gpt2_report\n",
    "}\n",
    "\n",
    "# Store GPT2 model and tokenizer for later use\n",
    "gpt2_amazon_model = model\n",
    "gpt2_amazon_tokenizer = gpt2_tokenizer"
   ]
  },
  {
   "cell_type": "code",
   "execution_count": 11,
   "metadata": {
    "execution": {
     "iopub.execute_input": "2025-04-21T19:54:40.260233Z",
     "iopub.status.busy": "2025-04-21T19:54:40.260022Z",
     "iopub.status.idle": "2025-04-21T19:57:52.089301Z",
     "shell.execute_reply": "2025-04-21T19:57:52.088733Z",
     "shell.execute_reply.started": "2025-04-21T19:54:40.260218Z"
    }
   },
   "outputs": [
    {
     "name": "stdout",
     "output_type": "stream",
     "text": [
      "\n",
      "======= Training BERT Model on Emotions Dataset =======\n"
     ]
    },
    {
     "name": "stderr",
     "output_type": "stream",
     "text": [
      "Some weights of BertForSequenceClassification were not initialized from the model checkpoint at bert-base-uncased and are newly initialized: ['classifier.bias', 'classifier.weight']\n",
      "You should probably TRAIN this model on a down-stream task to be able to use it for predictions and inference.\n"
     ]
    },
    {
     "data": {
      "application/vnd.jupyter.widget-view+json": {
       "model_id": "e777adaaecf94493943b6edfe26bdbb6",
       "version_major": 2,
       "version_minor": 0
      },
      "text/plain": [
       "Map:   0%|          | 0/4200 [00:00<?, ? examples/s]"
      ]
     },
     "metadata": {},
     "output_type": "display_data"
    },
    {
     "data": {
      "application/vnd.jupyter.widget-view+json": {
       "model_id": "cf76ab5c70ee4b0685be2d9abf3d3156",
       "version_major": 2,
       "version_minor": 0
      },
      "text/plain": [
       "Map:   0%|          | 0/900 [00:00<?, ? examples/s]"
      ]
     },
     "metadata": {},
     "output_type": "display_data"
    },
    {
     "data": {
      "application/vnd.jupyter.widget-view+json": {
       "model_id": "1ed7eda7113a4fd2ac4eeaf77bffdba9",
       "version_major": 2,
       "version_minor": 0
      },
      "text/plain": [
       "Map:   0%|          | 0/900 [00:00<?, ? examples/s]"
      ]
     },
     "metadata": {},
     "output_type": "display_data"
    },
    {
     "name": "stdout",
     "output_type": "stream",
     "text": [
      "Training bert-base-uncased...\n"
     ]
    },
    {
     "name": "stderr",
     "output_type": "stream",
     "text": [
      "/usr/local/lib/python3.11/dist-packages/torch/nn/parallel/_functions.py:71: UserWarning: Was asked to gather along dimension 0, but all input tensors were scalars; will instead unsqueeze and return a vector.\n",
      "  warnings.warn(\n"
     ]
    },
    {
     "data": {
      "text/html": [
       "\n",
       "    <div>\n",
       "      \n",
       "      <progress value='396' max='396' style='width:300px; height:20px; vertical-align: middle;'></progress>\n",
       "      [396/396 03:04, Epoch 3/3]\n",
       "    </div>\n",
       "    <table border=\"1\" class=\"dataframe\">\n",
       "  <thead>\n",
       " <tr style=\"text-align: left;\">\n",
       "      <th>Step</th>\n",
       "      <th>Training Loss</th>\n",
       "    </tr>\n",
       "  </thead>\n",
       "  <tbody>\n",
       "    <tr>\n",
       "      <td>10</td>\n",
       "      <td>1.836200</td>\n",
       "    </tr>\n",
       "    <tr>\n",
       "      <td>20</td>\n",
       "      <td>1.826700</td>\n",
       "    </tr>\n",
       "    <tr>\n",
       "      <td>30</td>\n",
       "      <td>1.858500</td>\n",
       "    </tr>\n",
       "    <tr>\n",
       "      <td>40</td>\n",
       "      <td>1.803700</td>\n",
       "    </tr>\n",
       "    <tr>\n",
       "      <td>50</td>\n",
       "      <td>1.797000</td>\n",
       "    </tr>\n",
       "    <tr>\n",
       "      <td>60</td>\n",
       "      <td>1.803200</td>\n",
       "    </tr>\n",
       "    <tr>\n",
       "      <td>70</td>\n",
       "      <td>1.807300</td>\n",
       "    </tr>\n",
       "    <tr>\n",
       "      <td>80</td>\n",
       "      <td>1.795600</td>\n",
       "    </tr>\n",
       "    <tr>\n",
       "      <td>90</td>\n",
       "      <td>1.782400</td>\n",
       "    </tr>\n",
       "    <tr>\n",
       "      <td>100</td>\n",
       "      <td>1.786500</td>\n",
       "    </tr>\n",
       "    <tr>\n",
       "      <td>110</td>\n",
       "      <td>1.754600</td>\n",
       "    </tr>\n",
       "    <tr>\n",
       "      <td>120</td>\n",
       "      <td>1.749300</td>\n",
       "    </tr>\n",
       "    <tr>\n",
       "      <td>130</td>\n",
       "      <td>1.710500</td>\n",
       "    </tr>\n",
       "    <tr>\n",
       "      <td>140</td>\n",
       "      <td>1.663000</td>\n",
       "    </tr>\n",
       "    <tr>\n",
       "      <td>150</td>\n",
       "      <td>1.576400</td>\n",
       "    </tr>\n",
       "    <tr>\n",
       "      <td>160</td>\n",
       "      <td>1.528200</td>\n",
       "    </tr>\n",
       "    <tr>\n",
       "      <td>170</td>\n",
       "      <td>1.472800</td>\n",
       "    </tr>\n",
       "    <tr>\n",
       "      <td>180</td>\n",
       "      <td>1.318100</td>\n",
       "    </tr>\n",
       "    <tr>\n",
       "      <td>190</td>\n",
       "      <td>1.226200</td>\n",
       "    </tr>\n",
       "    <tr>\n",
       "      <td>200</td>\n",
       "      <td>1.090200</td>\n",
       "    </tr>\n",
       "    <tr>\n",
       "      <td>210</td>\n",
       "      <td>1.043500</td>\n",
       "    </tr>\n",
       "    <tr>\n",
       "      <td>220</td>\n",
       "      <td>0.852300</td>\n",
       "    </tr>\n",
       "    <tr>\n",
       "      <td>230</td>\n",
       "      <td>0.872000</td>\n",
       "    </tr>\n",
       "    <tr>\n",
       "      <td>240</td>\n",
       "      <td>0.730500</td>\n",
       "    </tr>\n",
       "    <tr>\n",
       "      <td>250</td>\n",
       "      <td>0.622900</td>\n",
       "    </tr>\n",
       "    <tr>\n",
       "      <td>260</td>\n",
       "      <td>0.609300</td>\n",
       "    </tr>\n",
       "    <tr>\n",
       "      <td>270</td>\n",
       "      <td>0.441700</td>\n",
       "    </tr>\n",
       "    <tr>\n",
       "      <td>280</td>\n",
       "      <td>0.475200</td>\n",
       "    </tr>\n",
       "    <tr>\n",
       "      <td>290</td>\n",
       "      <td>0.437400</td>\n",
       "    </tr>\n",
       "    <tr>\n",
       "      <td>300</td>\n",
       "      <td>0.420400</td>\n",
       "    </tr>\n",
       "    <tr>\n",
       "      <td>310</td>\n",
       "      <td>0.354500</td>\n",
       "    </tr>\n",
       "    <tr>\n",
       "      <td>320</td>\n",
       "      <td>0.316800</td>\n",
       "    </tr>\n",
       "    <tr>\n",
       "      <td>330</td>\n",
       "      <td>0.320800</td>\n",
       "    </tr>\n",
       "    <tr>\n",
       "      <td>340</td>\n",
       "      <td>0.400400</td>\n",
       "    </tr>\n",
       "    <tr>\n",
       "      <td>350</td>\n",
       "      <td>0.436300</td>\n",
       "    </tr>\n",
       "    <tr>\n",
       "      <td>360</td>\n",
       "      <td>0.371100</td>\n",
       "    </tr>\n",
       "    <tr>\n",
       "      <td>370</td>\n",
       "      <td>0.253500</td>\n",
       "    </tr>\n",
       "    <tr>\n",
       "      <td>380</td>\n",
       "      <td>0.310500</td>\n",
       "    </tr>\n",
       "    <tr>\n",
       "      <td>390</td>\n",
       "      <td>0.295300</td>\n",
       "    </tr>\n",
       "  </tbody>\n",
       "</table><p>"
      ],
      "text/plain": [
       "<IPython.core.display.HTML object>"
      ]
     },
     "metadata": {},
     "output_type": "display_data"
    },
    {
     "name": "stdout",
     "output_type": "stream",
     "text": [
      "Training completed in 185.44 seconds\n",
      "Evaluating bert-base-uncased on test set...\n"
     ]
    },
    {
     "name": "stderr",
     "output_type": "stream",
     "text": [
      "/usr/local/lib/python3.11/dist-packages/torch/nn/parallel/_functions.py:71: UserWarning: Was asked to gather along dimension 0, but all input tensors were scalars; will instead unsqueeze and return a vector.\n",
      "  warnings.warn(\n"
     ]
    },
    {
     "data": {
      "text/html": [],
      "text/plain": [
       "<IPython.core.display.HTML object>"
      ]
     },
     "metadata": {},
     "output_type": "display_data"
    }
   ],
   "source": [
    "# Train and evaluate BERT model on Emotions dataset\n",
    "print(\"\\n======= Training BERT Model on Emotions Dataset =======\")\n",
    "\n",
    "# BERT model for Emotions\n",
    "bert_emotions_model, bert_emotions_tokenizer, bert_emotions_results = train_evaluate_model(\n",
    "    model_name=\"bert-base-uncased\",\n",
    "    tokenizer_name=\"bert-base-uncased\",\n",
    "    train_dataset=emotions_datasets['train'],\n",
    "    val_dataset=emotions_datasets['validation'],\n",
    "    test_dataset=emotions_datasets['test'],\n",
    "    text_column=\"text\",\n",
    "    label_column=\"label\",\n",
    "    num_labels=6,\n",
    "    output_dir=\"./results/emotions/bert\",\n",
    "    epochs=3\n",
    ")"
   ]
  },
  {
   "cell_type": "code",
   "execution_count": 12,
   "metadata": {
    "execution": {
     "iopub.execute_input": "2025-04-21T19:57:52.090607Z",
     "iopub.status.busy": "2025-04-21T19:57:52.090342Z",
     "iopub.status.idle": "2025-04-21T19:59:32.943974Z",
     "shell.execute_reply": "2025-04-21T19:59:32.943403Z",
     "shell.execute_reply.started": "2025-04-21T19:57:52.090579Z"
    }
   },
   "outputs": [
    {
     "name": "stderr",
     "output_type": "stream",
     "text": [
      "Some weights of DistilBertForSequenceClassification were not initialized from the model checkpoint at distilbert-base-uncased and are newly initialized: ['classifier.bias', 'classifier.weight', 'pre_classifier.bias', 'pre_classifier.weight']\n",
      "You should probably TRAIN this model on a down-stream task to be able to use it for predictions and inference.\n"
     ]
    },
    {
     "name": "stdout",
     "output_type": "stream",
     "text": [
      "\n",
      "======= Training DistilBERT Model on Emotions Dataset =======\n"
     ]
    },
    {
     "data": {
      "application/vnd.jupyter.widget-view+json": {
       "model_id": "e13ac5b55b5c44ed818cd89d81238c71",
       "version_major": 2,
       "version_minor": 0
      },
      "text/plain": [
       "Map:   0%|          | 0/4200 [00:00<?, ? examples/s]"
      ]
     },
     "metadata": {},
     "output_type": "display_data"
    },
    {
     "data": {
      "application/vnd.jupyter.widget-view+json": {
       "model_id": "f8323f3f947141e68027e94c4405f445",
       "version_major": 2,
       "version_minor": 0
      },
      "text/plain": [
       "Map:   0%|          | 0/900 [00:00<?, ? examples/s]"
      ]
     },
     "metadata": {},
     "output_type": "display_data"
    },
    {
     "data": {
      "application/vnd.jupyter.widget-view+json": {
       "model_id": "3b2c7f3ff7a1446e8a376dc960f85a1d",
       "version_major": 2,
       "version_minor": 0
      },
      "text/plain": [
       "Map:   0%|          | 0/900 [00:00<?, ? examples/s]"
      ]
     },
     "metadata": {},
     "output_type": "display_data"
    },
    {
     "name": "stdout",
     "output_type": "stream",
     "text": [
      "Training distilbert-base-uncased...\n"
     ]
    },
    {
     "name": "stderr",
     "output_type": "stream",
     "text": [
      "/usr/local/lib/python3.11/dist-packages/torch/nn/parallel/_functions.py:71: UserWarning: Was asked to gather along dimension 0, but all input tensors were scalars; will instead unsqueeze and return a vector.\n",
      "  warnings.warn(\n"
     ]
    },
    {
     "data": {
      "text/html": [
       "\n",
       "    <div>\n",
       "      \n",
       "      <progress value='396' max='396' style='width:300px; height:20px; vertical-align: middle;'></progress>\n",
       "      [396/396 01:36, Epoch 3/3]\n",
       "    </div>\n",
       "    <table border=\"1\" class=\"dataframe\">\n",
       "  <thead>\n",
       " <tr style=\"text-align: left;\">\n",
       "      <th>Step</th>\n",
       "      <th>Training Loss</th>\n",
       "    </tr>\n",
       "  </thead>\n",
       "  <tbody>\n",
       "    <tr>\n",
       "      <td>10</td>\n",
       "      <td>1.796000</td>\n",
       "    </tr>\n",
       "    <tr>\n",
       "      <td>20</td>\n",
       "      <td>1.791000</td>\n",
       "    </tr>\n",
       "    <tr>\n",
       "      <td>30</td>\n",
       "      <td>1.786900</td>\n",
       "    </tr>\n",
       "    <tr>\n",
       "      <td>40</td>\n",
       "      <td>1.799200</td>\n",
       "    </tr>\n",
       "    <tr>\n",
       "      <td>50</td>\n",
       "      <td>1.797100</td>\n",
       "    </tr>\n",
       "    <tr>\n",
       "      <td>60</td>\n",
       "      <td>1.795700</td>\n",
       "    </tr>\n",
       "    <tr>\n",
       "      <td>70</td>\n",
       "      <td>1.778000</td>\n",
       "    </tr>\n",
       "    <tr>\n",
       "      <td>80</td>\n",
       "      <td>1.789600</td>\n",
       "    </tr>\n",
       "    <tr>\n",
       "      <td>90</td>\n",
       "      <td>1.773600</td>\n",
       "    </tr>\n",
       "    <tr>\n",
       "      <td>100</td>\n",
       "      <td>1.751000</td>\n",
       "    </tr>\n",
       "    <tr>\n",
       "      <td>110</td>\n",
       "      <td>1.725600</td>\n",
       "    </tr>\n",
       "    <tr>\n",
       "      <td>120</td>\n",
       "      <td>1.659300</td>\n",
       "    </tr>\n",
       "    <tr>\n",
       "      <td>130</td>\n",
       "      <td>1.570800</td>\n",
       "    </tr>\n",
       "    <tr>\n",
       "      <td>140</td>\n",
       "      <td>1.464300</td>\n",
       "    </tr>\n",
       "    <tr>\n",
       "      <td>150</td>\n",
       "      <td>1.339400</td>\n",
       "    </tr>\n",
       "    <tr>\n",
       "      <td>160</td>\n",
       "      <td>1.192600</td>\n",
       "    </tr>\n",
       "    <tr>\n",
       "      <td>170</td>\n",
       "      <td>1.104800</td>\n",
       "    </tr>\n",
       "    <tr>\n",
       "      <td>180</td>\n",
       "      <td>0.989900</td>\n",
       "    </tr>\n",
       "    <tr>\n",
       "      <td>190</td>\n",
       "      <td>0.910700</td>\n",
       "    </tr>\n",
       "    <tr>\n",
       "      <td>200</td>\n",
       "      <td>0.852500</td>\n",
       "    </tr>\n",
       "    <tr>\n",
       "      <td>210</td>\n",
       "      <td>0.776000</td>\n",
       "    </tr>\n",
       "    <tr>\n",
       "      <td>220</td>\n",
       "      <td>0.646700</td>\n",
       "    </tr>\n",
       "    <tr>\n",
       "      <td>230</td>\n",
       "      <td>0.658300</td>\n",
       "    </tr>\n",
       "    <tr>\n",
       "      <td>240</td>\n",
       "      <td>0.592100</td>\n",
       "    </tr>\n",
       "    <tr>\n",
       "      <td>250</td>\n",
       "      <td>0.458800</td>\n",
       "    </tr>\n",
       "    <tr>\n",
       "      <td>260</td>\n",
       "      <td>0.532200</td>\n",
       "    </tr>\n",
       "    <tr>\n",
       "      <td>270</td>\n",
       "      <td>0.331900</td>\n",
       "    </tr>\n",
       "    <tr>\n",
       "      <td>280</td>\n",
       "      <td>0.378500</td>\n",
       "    </tr>\n",
       "    <tr>\n",
       "      <td>290</td>\n",
       "      <td>0.312200</td>\n",
       "    </tr>\n",
       "    <tr>\n",
       "      <td>300</td>\n",
       "      <td>0.346700</td>\n",
       "    </tr>\n",
       "    <tr>\n",
       "      <td>310</td>\n",
       "      <td>0.314200</td>\n",
       "    </tr>\n",
       "    <tr>\n",
       "      <td>320</td>\n",
       "      <td>0.272800</td>\n",
       "    </tr>\n",
       "    <tr>\n",
       "      <td>330</td>\n",
       "      <td>0.275600</td>\n",
       "    </tr>\n",
       "    <tr>\n",
       "      <td>340</td>\n",
       "      <td>0.317000</td>\n",
       "    </tr>\n",
       "    <tr>\n",
       "      <td>350</td>\n",
       "      <td>0.312500</td>\n",
       "    </tr>\n",
       "    <tr>\n",
       "      <td>360</td>\n",
       "      <td>0.326500</td>\n",
       "    </tr>\n",
       "    <tr>\n",
       "      <td>370</td>\n",
       "      <td>0.216900</td>\n",
       "    </tr>\n",
       "    <tr>\n",
       "      <td>380</td>\n",
       "      <td>0.289600</td>\n",
       "    </tr>\n",
       "    <tr>\n",
       "      <td>390</td>\n",
       "      <td>0.284500</td>\n",
       "    </tr>\n",
       "  </tbody>\n",
       "</table><p>"
      ],
      "text/plain": [
       "<IPython.core.display.HTML object>"
      ]
     },
     "metadata": {},
     "output_type": "display_data"
    },
    {
     "name": "stdout",
     "output_type": "stream",
     "text": [
      "Training completed in 97.12 seconds\n",
      "Evaluating distilbert-base-uncased on test set...\n"
     ]
    },
    {
     "name": "stderr",
     "output_type": "stream",
     "text": [
      "/usr/local/lib/python3.11/dist-packages/torch/nn/parallel/_functions.py:71: UserWarning: Was asked to gather along dimension 0, but all input tensors were scalars; will instead unsqueeze and return a vector.\n",
      "  warnings.warn(\n"
     ]
    },
    {
     "data": {
      "text/html": [],
      "text/plain": [
       "<IPython.core.display.HTML object>"
      ]
     },
     "metadata": {},
     "output_type": "display_data"
    }
   ],
   "source": [
    "# Train and evaluate DistilBERT model on Emotions dataset\n",
    "print(\"\\n======= Training DistilBERT Model on Emotions Dataset =======\")\n",
    "\n",
    "# DistilBERT model for Emotions\n",
    "distilbert_emotions_model, distilbert_emotions_tokenizer, distilbert_emotions_results = train_evaluate_model(\n",
    "    model_name=\"distilbert-base-uncased\",\n",
    "    tokenizer_name=\"distilbert-base-uncased\",\n",
    "    train_dataset=emotions_datasets['train'],\n",
    "    val_dataset=emotions_datasets['validation'],\n",
    "    test_dataset=emotions_datasets['test'],\n",
    "    text_column=\"text\",\n",
    "    label_column=\"label\",\n",
    "    num_labels=6,\n",
    "    output_dir=\"./results/emotions/distilbert\",\n",
    "    epochs=3\n",
    ")"
   ]
  },
  {
   "cell_type": "code",
   "execution_count": 13,
   "metadata": {
    "execution": {
     "iopub.execute_input": "2025-04-21T19:59:32.945150Z",
     "iopub.status.busy": "2025-04-21T19:59:32.944890Z",
     "iopub.status.idle": "2025-04-21T20:04:20.066847Z",
     "shell.execute_reply": "2025-04-21T20:04:20.066304Z",
     "shell.execute_reply.started": "2025-04-21T19:59:32.945122Z"
    }
   },
   "outputs": [
    {
     "name": "stderr",
     "output_type": "stream",
     "text": [
      "Some weights of GPT2ForSequenceClassification were not initialized from the model checkpoint at gpt2 and are newly initialized: ['score.weight']\n",
      "You should probably TRAIN this model on a down-stream task to be able to use it for predictions and inference.\n"
     ]
    },
    {
     "name": "stdout",
     "output_type": "stream",
     "text": [
      "\n",
      "======= Training GPT-2 Model on Emotions Dataset =======\n"
     ]
    },
    {
     "data": {
      "application/vnd.jupyter.widget-view+json": {
       "model_id": "454a504918ce4c1ea433f4a4b24cd481",
       "version_major": 2,
       "version_minor": 0
      },
      "text/plain": [
       "Map:   0%|          | 0/4200 [00:00<?, ? examples/s]"
      ]
     },
     "metadata": {},
     "output_type": "display_data"
    },
    {
     "data": {
      "application/vnd.jupyter.widget-view+json": {
       "model_id": "983b990fcdff448f83043665c5ee45b9",
       "version_major": 2,
       "version_minor": 0
      },
      "text/plain": [
       "Map:   0%|          | 0/900 [00:00<?, ? examples/s]"
      ]
     },
     "metadata": {},
     "output_type": "display_data"
    },
    {
     "data": {
      "application/vnd.jupyter.widget-view+json": {
       "model_id": "9a3e4dcdf64a461582a563a610da13e9",
       "version_major": 2,
       "version_minor": 0
      },
      "text/plain": [
       "Map:   0%|          | 0/900 [00:00<?, ? examples/s]"
      ]
     },
     "metadata": {},
     "output_type": "display_data"
    },
    {
     "name": "stdout",
     "output_type": "stream",
     "text": [
      "Training GPT2 for Emotions...\n"
     ]
    },
    {
     "name": "stderr",
     "output_type": "stream",
     "text": [
      "/usr/local/lib/python3.11/dist-packages/torch/nn/parallel/_functions.py:71: UserWarning: Was asked to gather along dimension 0, but all input tensors were scalars; will instead unsqueeze and return a vector.\n",
      "  warnings.warn(\n"
     ]
    },
    {
     "data": {
      "text/html": [
       "\n",
       "    <div>\n",
       "      \n",
       "      <progress value='789' max='789' style='width:300px; height:20px; vertical-align: middle;'></progress>\n",
       "      [789/789 04:35, Epoch 3/3]\n",
       "    </div>\n",
       "    <table border=\"1\" class=\"dataframe\">\n",
       "  <thead>\n",
       " <tr style=\"text-align: left;\">\n",
       "      <th>Step</th>\n",
       "      <th>Training Loss</th>\n",
       "    </tr>\n",
       "  </thead>\n",
       "  <tbody>\n",
       "    <tr>\n",
       "      <td>100</td>\n",
       "      <td>5.108300</td>\n",
       "    </tr>\n",
       "    <tr>\n",
       "      <td>200</td>\n",
       "      <td>1.852100</td>\n",
       "    </tr>\n",
       "    <tr>\n",
       "      <td>300</td>\n",
       "      <td>1.334500</td>\n",
       "    </tr>\n",
       "    <tr>\n",
       "      <td>400</td>\n",
       "      <td>0.775600</td>\n",
       "    </tr>\n",
       "    <tr>\n",
       "      <td>500</td>\n",
       "      <td>0.521900</td>\n",
       "    </tr>\n",
       "    <tr>\n",
       "      <td>600</td>\n",
       "      <td>0.358000</td>\n",
       "    </tr>\n",
       "    <tr>\n",
       "      <td>700</td>\n",
       "      <td>0.273300</td>\n",
       "    </tr>\n",
       "  </tbody>\n",
       "</table><p>"
      ],
      "text/plain": [
       "<IPython.core.display.HTML object>"
      ]
     },
     "metadata": {},
     "output_type": "display_data"
    },
    {
     "name": "stderr",
     "output_type": "stream",
     "text": [
      "/usr/local/lib/python3.11/dist-packages/torch/nn/parallel/_functions.py:71: UserWarning: Was asked to gather along dimension 0, but all input tensors were scalars; will instead unsqueeze and return a vector.\n",
      "  warnings.warn(\n"
     ]
    },
    {
     "name": "stdout",
     "output_type": "stream",
     "text": [
      "GPT2 training for Emotions completed in 276.24 seconds\n",
      "Evaluating GPT2 on Emotions test set...\n"
     ]
    },
    {
     "name": "stderr",
     "output_type": "stream",
     "text": [
      "/usr/local/lib/python3.11/dist-packages/torch/nn/parallel/_functions.py:71: UserWarning: Was asked to gather along dimension 0, but all input tensors were scalars; will instead unsqueeze and return a vector.\n",
      "  warnings.warn(\n"
     ]
    },
    {
     "data": {
      "text/html": [],
      "text/plain": [
       "<IPython.core.display.HTML object>"
      ]
     },
     "metadata": {},
     "output_type": "display_data"
    }
   ],
   "source": [
    "# Train and evaluate GPT-2 model on Emotions dataset\n",
    "print(\"\\n======= Training GPT-2 Model on Emotions Dataset =======\")\n",
    "\n",
    "# GPT2 model for Emotions\n",
    "model_name = \"gpt2\"\n",
    "model = GPT2ForSequenceClassification.from_pretrained(model_name, num_labels=6)\n",
    "model.config.pad_token_id = gpt2_tokenizer.eos_token_id\n",
    "\n",
    "# Define tokenization function for GPT2 (Emotions)\n",
    "def tokenize_gpt2_emotions(examples):\n",
    "    tokenized = gpt2_tokenizer(examples[\"text\"], padding=\"max_length\", truncation=True, max_length=128)\n",
    "\n",
    "    # Add labels to the tokenized output\n",
    "    tokenized[\"labels\"] = examples[\"label\"]\n",
    "    \n",
    "    return tokenized\n",
    "\n",
    "# Apply tokenization\n",
    "tokenized_train_gpt2_emotions = emotions_datasets['train'].map(tokenize_gpt2_emotions, batched=True)\n",
    "tokenized_val_gpt2_emotions = emotions_datasets['validation'].map(tokenize_gpt2_emotions, batched=True)\n",
    "tokenized_test_gpt2_emotions = emotions_datasets['test'].map(tokenize_gpt2_emotions, batched=True)\n",
    "\n",
    "# Training arguments for GPT2 (Emotions)\n",
    "training_args_gpt2_emotions = TrainingArguments(\n",
    "    output_dir=f'./results/{model_name}',\n",
    "    num_train_epochs=3,\n",
    "    per_device_train_batch_size=8,\n",
    "    per_device_eval_batch_size=32,\n",
    "    warmup_steps=500,\n",
    "    weight_decay=0.01,\n",
    "    logging_dir=f'./logs/{model_name}',\n",
    "    logging_steps=100,\n",
    "    report_to=\"none\"\n",
    ")\n",
    "\n",
    "# Initialize Trainer for GPT2 (Emotions)\n",
    "gpt2_emotions_trainer = Trainer(\n",
    "    model=model,\n",
    "    args=training_args_gpt2_emotions,\n",
    "    train_dataset=tokenized_train_gpt2_emotions,\n",
    "    eval_dataset=tokenized_val_gpt2_emotions,\n",
    ")\n",
    "\n",
    "# Train GPT2 model for Emotions\n",
    "print(\"Training GPT2 for Emotions...\")\n",
    "start_time = time.time()\n",
    "gpt2_emotions_trainer.train()\n",
    "gpt2_emotions_training_time = time.time() - start_time\n",
    "print(f\"GPT2 training for Emotions completed in {gpt2_emotions_training_time:.2f} seconds\")\n",
    "\n",
    "# Save the model\n",
    "gpt2_emotions_trainer.save_model(\"./results/emotions/gpt2/best_model\")\n",
    "\n",
    "# Evaluate GPT2 on Emotions test set\n",
    "print(\"Evaluating GPT2 on Emotions test set...\")\n",
    "start_time = time.time()\n",
    "gpt2_emotions_predictions = gpt2_emotions_trainer.predict(tokenized_test_gpt2_emotions)\n",
    "gpt2_emotions_inference_time = time.time() - start_time\n",
    "\n",
    "# Process GPT2 predictions for Emotions\n",
    "gpt2_emotions_preds = np.argmax(gpt2_emotions_predictions.predictions, axis=1)\n",
    "gpt2_emotions_labels = emotions_datasets['test'][\"label\"]\n",
    "\n",
    "# Calculate metrics for GPT2 on Emotions\n",
    "gpt2_emotions_accuracy = accuracy_score(gpt2_emotions_labels, gpt2_emotions_preds)\n",
    "gpt2_emotions_f1 = f1_score(gpt2_emotions_labels, gpt2_emotions_preds, average='weighted')\n",
    "\n",
    "# Generate classification report for GPT2 on Emotions\n",
    "gpt2_emotions_report = classification_report(gpt2_emotions_labels, gpt2_emotions_preds, output_dict=True)\n",
    "\n",
    "# Generate confusion matrix for GPT2 on Emotions\n",
    "gpt2_emotions_cm = confusion_matrix(gpt2_emotions_labels, gpt2_emotions_preds)\n",
    "\n",
    "# Plot confusion matrix for GPT2 on Emotions\n",
    "plt.figure(figsize=(10, 8))\n",
    "sns.heatmap(gpt2_emotions_cm, annot=True, fmt='d', cmap='Blues')\n",
    "plt.title('Confusion Matrix - GPT2 (Emotions)')\n",
    "plt.ylabel('True Label')\n",
    "plt.xlabel('Predicted Label')\n",
    "plt.savefig(\"./results/emotions/gpt2/confusion_matrix.png\")\n",
    "plt.close()\n",
    "\n",
    "# Process inference time per sample for GPT2 on Emotions\n",
    "gpt2_emotions_avg_inference_time = gpt2_emotions_inference_time / len(emotions_datasets['test'])\n",
    "\n",
    "gpt2_emotions_results = {\n",
    "    'model_name': \"gpt2\",\n",
    "    'accuracy': gpt2_emotions_accuracy,\n",
    "    'f1_score': gpt2_emotions_f1,\n",
    "    'training_time': gpt2_emotions_training_time,\n",
    "    'inference_time': gpt2_emotions_inference_time,\n",
    "    'avg_inference_time_per_sample': gpt2_emotions_avg_inference_time,\n",
    "    'classification_report': gpt2_emotions_report\n",
    "}\n",
    "\n",
    "# Store GPT2 model and tokenizer for Emotions for later use\n",
    "gpt2_emotions_model = model\n",
    "gpt2_emotions_tokenizer = gpt2_tokenizer"
   ]
  },
  {
   "cell_type": "code",
   "execution_count": 14,
   "metadata": {
    "execution": {
     "iopub.execute_input": "2025-04-21T20:04:20.067820Z",
     "iopub.status.busy": "2025-04-21T20:04:20.067577Z",
     "iopub.status.idle": "2025-04-21T20:04:20.570177Z",
     "shell.execute_reply": "2025-04-21T20:04:20.569526Z",
     "shell.execute_reply.started": "2025-04-21T20:04:20.067802Z"
    }
   },
   "outputs": [
    {
     "name": "stdout",
     "output_type": "stream",
     "text": [
      "\n",
      "======= Model Performance Comparison =======\n",
      "\n",
      "Amazon Reviews Models Comparison:\n",
      "                model_name  accuracy  f1_score  training_time  \\\n",
      "0        bert-base-uncased     0.942  0.942000     313.758557   \n",
      "1  distilbert-base-uncased     0.920  0.919931     165.689675   \n",
      "2                     gpt2     0.930  0.930000     466.444345   \n",
      "\n",
      "   avg_inference_time_per_sample  \n",
      "0                       0.004324  \n",
      "1                       0.002208  \n",
      "2                       0.005700  \n",
      "\n",
      "Emotions Models Comparison:\n",
      "                model_name  accuracy  f1_score  training_time  \\\n",
      "0        bert-base-uncased  0.911111  0.910874     185.439779   \n",
      "1  distilbert-base-uncased  0.902222  0.901371      97.124230   \n",
      "2                     gpt2  0.931111  0.930716     276.235419   \n",
      "\n",
      "   avg_inference_time_per_sample  \n",
      "0                       0.004382  \n",
      "1                       0.002246  \n",
      "2                       0.005732  \n"
     ]
    },
    {
     "data": {
      "image/png": "[encoded data removed]",
      "text/plain": [
       "<Figure size 1200x600 with 2 Axes>"
      ]
     },
     "metadata": {},
     "output_type": "display_data"
    }
   ],
   "source": [
    "# Compare model performances\n",
    "print(\"\\n======= Model Performance Comparison =======\")\n",
    "\n",
    "# Amazon Reviews Models Comparison\n",
    "amazon_models_comparison = pd.DataFrame([\n",
    "    bert_amazon_results,\n",
    "    distilbert_amazon_results,\n",
    "    gpt2_amazon_results\n",
    "])\n",
    "\n",
    "# Select only relevant columns for display\n",
    "amazon_display_cols = ['model_name', 'accuracy', 'f1_score', 'training_time', 'avg_inference_time_per_sample']\n",
    "print(\"\\nAmazon Reviews Models Comparison:\")\n",
    "print(amazon_models_comparison[amazon_display_cols])\n",
    "\n",
    "# Create performance comparison plot for Amazon Reviews\n",
    "plt.figure(figsize=(12, 6))\n",
    "plt.subplot(1, 2, 1)\n",
    "sns.barplot(x='model_name', y='accuracy', data=amazon_models_comparison)\n",
    "plt.title('Accuracy Comparison - Amazon Reviews')\n",
    "plt.ylim(0, 1)\n",
    "\n",
    "plt.subplot(1, 2, 2)\n",
    "sns.barplot(x='model_name', y='avg_inference_time_per_sample', data=amazon_models_comparison)\n",
    "plt.title('Inference Time Per Sample (s) - Amazon Reviews')\n",
    "plt.tight_layout()\n",
    "plt.savefig(\"./results/amazon/model_comparison.png\")\n",
    "plt.close()\n",
    "\n",
    "# Emotions Models Comparison\n",
    "emotions_models_comparison = pd.DataFrame([\n",
    "    bert_emotions_results,\n",
    "    distilbert_emotions_results,\n",
    "    gpt2_emotions_results\n",
    "])\n",
    "\n",
    "print(\"\\nEmotions Models Comparison:\")\n",
    "print(emotions_models_comparison[amazon_display_cols])\n",
    "\n",
    "# Create performance comparison plot for Emotions\n",
    "plt.figure(figsize=(12, 6))\n",
    "plt.subplot(1, 2, 1)\n",
    "sns.barplot(x='model_name', y='accuracy', data=emotions_models_comparison)\n",
    "plt.title('Accuracy Comparison - Emotions')\n",
    "plt.ylim(0, 1)\n",
    "\n",
    "plt.subplot(1, 2, 2)\n",
    "sns.barplot(x='model_name', y='avg_inference_time_per_sample', data=emotions_models_comparison)\n",
    "plt.title('Inference Time Per Sample (s) - Emotions')\n",
    "plt.tight_layout()\n",
    "plt.show() "
   ]
  },
  {
   "cell_type": "code",
   "execution_count": 15,
   "metadata": {
    "execution": {
     "iopub.execute_input": "2025-04-21T20:04:20.571195Z",
     "iopub.status.busy": "2025-04-21T20:04:20.570967Z",
     "iopub.status.idle": "2025-04-21T20:06:16.219709Z",
     "shell.execute_reply": "2025-04-21T20:06:16.218754Z",
     "shell.execute_reply.started": "2025-04-21T20:04:20.571172Z"
    }
   },
   "outputs": [
    {
     "name": "stderr",
     "output_type": "stream",
     "text": [
      "Device set to use cuda\n"
     ]
    },
    {
     "name": "stdout",
     "output_type": "stream",
     "text": [
      "\n",
      "======= Labeling Unlabelled Amazon Reviews =======\n"
     ]
    },
    {
     "data": {
      "application/vnd.jupyter.widget-view+json": {
       "model_id": "e6248a42cb8f47f78501646cb527ed97",
       "version_major": 2,
       "version_minor": 0
      },
      "text/plain": [
       "  0%|          | 0/154 [00:00<?, ?it/s]"
      ]
     },
     "metadata": {},
     "output_type": "display_data"
    },
    {
     "name": "stderr",
     "output_type": "stream",
     "text": [
      "You seem to be using the pipelines sequentially on GPU. In order to maximize efficiency please use a dataset\n",
      "Device set to use cuda\n"
     ]
    },
    {
     "data": {
      "application/vnd.jupyter.widget-view+json": {
       "model_id": "c4f513c9f7b94d1992a5f69314e5b5c5",
       "version_major": 2,
       "version_minor": 0
      },
      "text/plain": [
       "  0%|          | 0/154 [00:00<?, ?it/s]"
      ]
     },
     "metadata": {},
     "output_type": "display_data"
    },
    {
     "name": "stderr",
     "output_type": "stream",
     "text": [
      "Device set to use cuda\n"
     ]
    },
    {
     "data": {
      "application/vnd.jupyter.widget-view+json": {
       "model_id": "609dd44596b14a849e8f78d5af3d5138",
       "version_major": 2,
       "version_minor": 0
      },
      "text/plain": [
       "  0%|          | 0/154 [00:00<?, ?it/s]"
      ]
     },
     "metadata": {},
     "output_type": "display_data"
    }
   ],
   "source": [
    "# Label the unlabelled Amazon reviews using all trained models\n",
    "print(\"\\n======= Labeling Unlabelled Amazon Reviews =======\")\n",
    "\n",
    "# Check the reviewText column in unlabelled data\n",
    "text_column = 'reviewText'  # Based on the sample data provided\n",
    "\n",
    "# Label using BERT for Amazon\n",
    "bert_labeled_data, bert_labeling_time = label_unlabelled_data(\n",
    "    model=bert_amazon_model,\n",
    "    tokenizer=bert_amazon_tokenizer,\n",
    "    unlabelled_df=unlabelled_reviews,\n",
    "    text_column=text_column,\n",
    "    output_filename=\"./results/bert_labeled_amazon.csv\"\n",
    ")\n",
    "\n",
    "# Label using DistilBERT for Amazon\n",
    "distilbert_labeled_data, distilbert_labeling_time = label_unlabelled_data(\n",
    "    model=distilbert_amazon_model,\n",
    "    tokenizer=distilbert_amazon_tokenizer,\n",
    "    unlabelled_df=unlabelled_reviews,\n",
    "    text_column=text_column,\n",
    "    output_filename=\"./results/distilbert_labeled_amazon.csv\"\n",
    ")\n",
    "\n",
    "# Label using GPT2 for Amazon\n",
    "gpt2_labeled_data, gpt2_labeling_time = label_unlabelled_data(\n",
    "    model=gpt2_amazon_model,\n",
    "    tokenizer=gpt2_amazon_tokenizer,\n",
    "    unlabelled_df=unlabelled_reviews,\n",
    "    text_column=text_column,\n",
    "    output_filename=\"./results/gpt2_labeled_amazon.csv\"\n",
    ")"
   ]
  },
  {
   "cell_type": "code",
   "execution_count": 16,
   "metadata": {
    "execution": {
     "iopub.execute_input": "2025-04-21T20:06:16.220695Z",
     "iopub.status.busy": "2025-04-21T20:06:16.220454Z",
     "iopub.status.idle": "2025-04-21T20:06:16.412676Z",
     "shell.execute_reply": "2025-04-21T20:06:16.411926Z",
     "shell.execute_reply.started": "2025-04-21T20:06:16.220666Z"
    }
   },
   "outputs": [
    {
     "name": "stdout",
     "output_type": "stream",
     "text": [
      "\n",
      "======= Comparing Labeling Results =======\n",
      "Agreement percentage across all models: 100.00%\n",
      "BERT vs DistilBERT agreement: 100.00%\n",
      "BERT vs GPT2 agreement: 100.00%\n",
      "DistilBERT vs GPT2 agreement: 100.00%\n"
     ]
    },
    {
     "data": {
      "image/png": "[encoded data removed]",
      "text/plain": [
       "<Figure size 1000x600 with 1 Axes>"
      ]
     },
     "metadata": {},
     "output_type": "display_data"
    }
   ],
   "source": [
    "# Compare labeling results across models\n",
    "print(\"\\n======= Comparing Labeling Results =======\")\n",
    "\n",
    "# Merge the labeled data\n",
    "comparison_df = unlabelled_reviews.copy()\n",
    "comparison_df['bert_label'] = bert_labeled_data['predicted_label']\n",
    "comparison_df['distilbert_label'] = distilbert_labeled_data['predicted_label']\n",
    "comparison_df['gpt2_label'] = gpt2_labeled_data['predicted_label']\n",
    "\n",
    "# Calculate agreement percentage\n",
    "agreement = (comparison_df['bert_label'] == comparison_df['distilbert_label']) & (comparison_df['distilbert_label'] == comparison_df['gpt2_label'])\n",
    "agreement_percentage = agreement.mean() * 100\n",
    "\n",
    "print(f\"Agreement percentage across all models: {agreement_percentage:.2f}%\")\n",
    "\n",
    "# Compare BERT vs DistilBERT\n",
    "bert_distilbert_agreement = (comparison_df['bert_label'] == comparison_df['distilbert_label']).mean() * 100\n",
    "print(f\"BERT vs DistilBERT agreement: {bert_distilbert_agreement:.2f}%\")\n",
    "\n",
    "# Compare BERT vs GPT2\n",
    "bert_gpt2_agreement = (comparison_df['bert_label'] == comparison_df['gpt2_label']).mean() * 100\n",
    "print(f\"BERT vs GPT2 agreement: {bert_gpt2_agreement:.2f}%\")\n",
    "\n",
    "# Compare DistilBERT vs GPT2\n",
    "distilbert_gpt2_agreement = (comparison_df['distilbert_label'] == comparison_df['gpt2_label']).mean() * 100\n",
    "print(f\"DistilBERT vs GPT2 agreement: {distilbert_gpt2_agreement:.2f}%\")\n",
    "\n",
    "# Save comparison results\n",
    "comparison_df.to_csv(\"./results/model_comparison_results.csv\", index=False)\n",
    "\n",
    "# Create visualization of model agreement\n",
    "agreement_data = pd.DataFrame([\n",
    "    {'Comparison': 'All Models', 'Agreement (%)': agreement_percentage},\n",
    "    {'Comparison': 'BERT vs DistilBERT', 'Agreement (%)': bert_distilbert_agreement},\n",
    "    {'Comparison': 'BERT vs GPT2', 'Agreement (%)': bert_gpt2_agreement},\n",
    "    {'Comparison': 'DistilBERT vs GPT2', 'Agreement (%)': distilbert_gpt2_agreement}\n",
    "])\n",
    "\n",
    "plt.figure(figsize=(10, 6))\n",
    "sns.barplot(x='Comparison', y='Agreement (%)', data=agreement_data)\n",
    "plt.title('Model Agreement on Unlabelled Data')\n",
    "plt.ylim(0, 100)\n",
    "plt.show()"
   ]
  },
  {
   "cell_type": "code",
   "execution_count": 17,
   "metadata": {
    "execution": {
     "iopub.execute_input": "2025-04-21T20:06:16.415093Z",
     "iopub.status.busy": "2025-04-21T20:06:16.414860Z",
     "iopub.status.idle": "2025-04-21T20:06:16.547515Z",
     "shell.execute_reply": "2025-04-21T20:06:16.546869Z",
     "shell.execute_reply.started": "2025-04-21T20:06:16.415070Z"
    }
   },
   "outputs": [
    {
     "name": "stdout",
     "output_type": "stream",
     "text": [
      "\n",
      "Labeling Time Comparison:\n",
      "        Model  Labeling Time (s)  Avg Time Per Sample (s)\n",
      "0        BERT          43.287763                 0.008807\n",
      "1  DistilBERT          23.468309                 0.004775\n",
      "2        GPT2          48.693557                 0.009907\n"
     ]
    },
    {
     "data": {
      "image/png": "[encoded data removed]",
      "text/plain": [
       "<Figure size 1000x600 with 1 Axes>"
      ]
     },
     "metadata": {},
     "output_type": "display_data"
    }
   ],
   "source": [
    "# 11. Calculate labeling time comparison\n",
    "labeling_time_data = pd.DataFrame([\n",
    "    {'Model': 'BERT', 'Labeling Time (s)': bert_labeling_time, 'Avg Time Per Sample (s)': bert_labeling_time / len(unlabelled_reviews)},\n",
    "    {'Model': 'DistilBERT', 'Labeling Time (s)': distilbert_labeling_time, 'Avg Time Per Sample (s)': distilbert_labeling_time / len(unlabelled_reviews)},\n",
    "    {'Model': 'GPT2', 'Labeling Time (s)': gpt2_labeling_time, 'Avg Time Per Sample (s)': gpt2_labeling_time / len(unlabelled_reviews)}\n",
    "])\n",
    "\n",
    "print(\"\\nLabeling Time Comparison:\")\n",
    "print(labeling_time_data)\n",
    "\n",
    "plt.figure(figsize=(10, 6))\n",
    "sns.barplot(x='Model', y='Avg Time Per Sample (s)', data=labeling_time_data)\n",
    "plt.title('Average Labeling Time Per Sample')\n",
    "plt.show()"
   ]
  },
  {
   "cell_type": "code",
   "execution_count": 18,
   "metadata": {
    "execution": {
     "iopub.execute_input": "2025-04-21T20:06:16.548348Z",
     "iopub.status.busy": "2025-04-21T20:06:16.548172Z",
     "iopub.status.idle": "2025-04-21T20:06:17.223413Z",
     "shell.execute_reply": "2025-04-21T20:06:17.222502Z",
     "shell.execute_reply.started": "2025-04-21T20:06:16.548334Z"
    }
   },
   "outputs": [
    {
     "name": "stdout",
     "output_type": "stream",
     "text": [
      "\n",
      "======= Generating Final Summary Report =======\n",
      "\n",
      "Comprehensive Model Performance Summary:\n",
      "          Dataset       Model  Accuracy  F1 Score  Training Time (s)  \\\n",
      "0  Amazon Reviews        BERT  0.942000  0.942000         313.758557   \n",
      "1  Amazon Reviews  DistilBERT  0.920000  0.919931         165.689675   \n",
      "2  Amazon Reviews        GPT2  0.930000  0.930000         466.444345   \n",
      "3        Emotions        BERT  0.911111  0.910874         185.439779   \n",
      "4        Emotions  DistilBERT  0.902222  0.901371          97.124230   \n",
      "5        Emotions        GPT2  0.931111  0.930716         276.235419   \n",
      "\n",
      "   Inference Time Per Sample (s)  \n",
      "0                       0.004324  \n",
      "1                       0.002208  \n",
      "2                       0.005700  \n",
      "3                       0.004382  \n",
      "4                       0.002246  \n",
      "5                       0.005732  \n"
     ]
    },
    {
     "data": {
      "image/png": "[encoded data removed]",
      "text/plain": [
       "<Figure size 1400x1000 with 4 Axes>"
      ]
     },
     "metadata": {},
     "output_type": "display_data"
    }
   ],
   "source": [
    "# Generate final report summarizing results\n",
    "print(\"\\n======= Generating Final Summary Report =======\")\n",
    "\n",
    "# Create a comprehensive summary table\n",
    "summary = pd.DataFrame([\n",
    "    # Amazon Reviews Models\n",
    "    {'Dataset': 'Amazon Reviews', 'Model': 'BERT', 'Accuracy': bert_amazon_results['accuracy'], \n",
    "     'F1 Score': bert_amazon_results['f1_score'], 'Training Time (s)': bert_amazon_results['training_time'], \n",
    "     'Inference Time Per Sample (s)': bert_amazon_results['avg_inference_time_per_sample']},\n",
    "    \n",
    "    {'Dataset': 'Amazon Reviews', 'Model': 'DistilBERT', 'Accuracy': distilbert_amazon_results['accuracy'], \n",
    "     'F1 Score': distilbert_amazon_results['f1_score'], 'Training Time (s)': distilbert_amazon_results['training_time'], \n",
    "     'Inference Time Per Sample (s)': distilbert_amazon_results['avg_inference_time_per_sample']},\n",
    "    \n",
    "    {'Dataset': 'Amazon Reviews', 'Model': 'GPT2', 'Accuracy': gpt2_amazon_results['accuracy'], \n",
    "     'F1 Score': gpt2_amazon_results['f1_score'], 'Training Time (s)': gpt2_amazon_results['training_time'], \n",
    "     'Inference Time Per Sample (s)': gpt2_amazon_results['avg_inference_time_per_sample']},\n",
    "    \n",
    "    # Emotions Dataset Models\n",
    "    {'Dataset': 'Emotions', 'Model': 'BERT', 'Accuracy': bert_emotions_results['accuracy'], \n",
    "     'F1 Score': bert_emotions_results['f1_score'], 'Training Time (s)': bert_emotions_results['training_time'], \n",
    "     'Inference Time Per Sample (s)': bert_emotions_results['avg_inference_time_per_sample']},\n",
    "    \n",
    "    {'Dataset': 'Emotions', 'Model': 'DistilBERT', 'Accuracy': distilbert_emotions_results['accuracy'], \n",
    "     'F1 Score': distilbert_emotions_results['f1_score'], 'Training Time (s)': distilbert_emotions_results['training_time'], \n",
    "     'Inference Time Per Sample (s)': distilbert_emotions_results['avg_inference_time_per_sample']},\n",
    "    \n",
    "    {'Dataset': 'Emotions', 'Model': 'GPT2', 'Accuracy': gpt2_emotions_results['accuracy'], \n",
    "     'F1 Score': gpt2_emotions_results['f1_score'], 'Training Time (s)': gpt2_emotions_results['training_time'], \n",
    "     'Inference Time Per Sample (s)': gpt2_emotions_results['avg_inference_time_per_sample']}\n",
    "])\n",
    "\n",
    "# Display the summary table\n",
    "print(\"\\nComprehensive Model Performance Summary:\")\n",
    "print(summary)\n",
    "\n",
    "# Create summary visualizations\n",
    "plt.figure(figsize=(14, 10))\n",
    "\n",
    "# Accuracy comparison across datasets\n",
    "plt.subplot(2, 2, 1)\n",
    "sns.barplot(x='Model', y='Accuracy', hue='Dataset', data=summary)\n",
    "plt.title('Accuracy Comparison')\n",
    "plt.ylim(0, 1)\n",
    "\n",
    "# F1 Score comparison across datasets\n",
    "plt.subplot(2, 2, 2)\n",
    "sns.barplot(x='Model', y='F1 Score', hue='Dataset', data=summary)\n",
    "plt.title('F1 Score Comparison')\n",
    "plt.ylim(0, 1)\n",
    "\n",
    "# Training Time comparison\n",
    "plt.subplot(2, 2, 3)\n",
    "sns.barplot(x='Model', y='Training Time (s)', hue='Dataset', data=summary)\n",
    "plt.title('Training Time Comparison')\n",
    "\n",
    "# Inference Time comparison\n",
    "plt.subplot(2, 2, 4)\n",
    "sns.barplot(x='Model', y='Inference Time Per Sample (s)', hue='Dataset', data=summary)\n",
    "plt.title('Inference Time Comparison')\n",
    "\n",
    "plt.tight_layout()\n",
    "plt.show()"
   ]
  },
  {
   "cell_type": "code",
   "execution_count": 19,
   "metadata": {
    "execution": {
     "iopub.execute_input": "2025-04-21T20:06:17.224481Z",
     "iopub.status.busy": "2025-04-21T20:06:17.224243Z",
     "iopub.status.idle": "2025-04-21T20:06:17.237523Z",
     "shell.execute_reply": "2025-04-21T20:06:17.236729Z",
     "shell.execute_reply.started": "2025-04-21T20:06:17.224451Z"
    }
   },
   "outputs": [
    {
     "name": "stdout",
     "output_type": "stream",
     "text": [
      "\n",
      "Best Models by Metric:\n",
      "Best Accuracy (Amazon): BERT - 0.9420\n",
      "Best Accuracy (Emotions): GPT2 - 0.9311\n",
      "Best F1 Score (Amazon): BERT - 0.9420\n",
      "Best F1 Score (Emotions): GPT2 - 0.9307\n",
      "Fastest Inference (Amazon): DistilBERT - 0.002208 s\n",
      "Fastest Inference (Emotions): DistilBERT - 0.002246 s\n",
      "\n",
      "Model Agreement Summary:\n",
      "All three models agree on 100.00% of unlabeled data\n",
      "Highest agreement between: BERT vs DistilBERT (100.00%)\n",
      "\n",
      "======= Analysis Complete =======\n"
     ]
    }
   ],
   "source": [
    "# Display the best model for each metric\n",
    "print(\"\\nBest Models by Metric:\")\n",
    "\n",
    "# Best accuracy for Amazon Reviews\n",
    "best_amazon_accuracy = summary[summary['Dataset'] == 'Amazon Reviews'].sort_values('Accuracy', ascending=False).iloc[0]\n",
    "print(f\"Best Accuracy (Amazon): {best_amazon_accuracy['Model']} - {best_amazon_accuracy['Accuracy']:.4f}\")\n",
    "\n",
    "# Best accuracy for Emotions\n",
    "best_emotions_accuracy = summary[summary['Dataset'] == 'Emotions'].sort_values('Accuracy', ascending=False).iloc[0]\n",
    "print(f\"Best Accuracy (Emotions): {best_emotions_accuracy['Model']} - {best_emotions_accuracy['Accuracy']:.4f}\")\n",
    "\n",
    "# Best F1 for Amazon Reviews\n",
    "best_amazon_f1 = summary[summary['Dataset'] == 'Amazon Reviews'].sort_values('F1 Score', ascending=False).iloc[0]\n",
    "print(f\"Best F1 Score (Amazon): {best_amazon_f1['Model']} - {best_amazon_f1['F1 Score']:.4f}\")\n",
    "\n",
    "# Best F1 for Emotions\n",
    "best_emotions_f1 = summary[summary['Dataset'] == 'Emotions'].sort_values('F1 Score', ascending=False).iloc[0]\n",
    "print(f\"Best F1 Score (Emotions): {best_emotions_f1['Model']} - {best_emotions_f1['F1 Score']:.4f}\")\n",
    "\n",
    "# Fastest inference for Amazon Reviews\n",
    "fastest_amazon = summary[summary['Dataset'] == 'Amazon Reviews'].sort_values('Inference Time Per Sample (s)').iloc[0]\n",
    "print(f\"Fastest Inference (Amazon): {fastest_amazon['Model']} - {fastest_amazon['Inference Time Per Sample (s)']:.6f} s\")\n",
    "\n",
    "# Fastest inference for Emotions\n",
    "fastest_emotions = summary[summary['Dataset'] == 'Emotions'].sort_values('Inference Time Per Sample (s)').iloc[0]\n",
    "print(f\"Fastest Inference (Emotions): {fastest_emotions['Model']} - {fastest_emotions['Inference Time Per Sample (s)']:.6f} s\")\n",
    "\n",
    "# Display model agreement summary\n",
    "print(\"\\nModel Agreement Summary:\")\n",
    "print(f\"All three models agree on {agreement_percentage:.2f}% of unlabeled data\")\n",
    "print(f\"Highest agreement between: {agreement_data.iloc[1:].sort_values('Agreement (%)', ascending=False).iloc[0]['Comparison']} ({agreement_data.iloc[1:].sort_values('Agreement (%)', ascending=False).iloc[0]['Agreement (%)']:.2f}%)\")\n",
    "\n",
    "print(\"\\n======= Analysis Complete =======\")"
   ]
  },
  {
   "cell_type": "code",
   "execution_count": null,
   "metadata": {},
   "outputs": [],
   "source": []
  }
 ],
 "metadata": {
  "kaggle": {
   "accelerator": "nvidiaTeslaT4",
   "dataSources": [
    {
     "datasetId": 4519601,
     "sourceId": 7734086,
     "sourceType": "datasetVersion"
    },
    {
     "datasetId": 4181460,
     "sourceId": 10205634,
     "sourceType": "datasetVersion"
    },
    {
     "datasetId": 2355575,
     "sourceId": 3968962,
     "sourceType": "datasetVersion"
    }
   ],
   "dockerImageVersionId": 31011,
   "isGpuEnabled": true,
   "isInternetEnabled": true,
   "language": "python",
   "sourceType": "notebook"
  },
  "kernelspec": {
   "display_name": "Python 3 (ipykernel)",
   "language": "python",
   "name": "python3"
  },
  "language_info": {
   "codemirror_mode": {
    "name": "ipython",
    "version": 3
   },
   "file_extension": ".py",
   "mimetype": "text/x-python",
   "name": "python",
   "nbconvert_exporter": "python",
   "pygments_lexer": "ipython3",
   "version": "3.11.4"
  }
 },
 "nbformat": 4,
 "nbformat_minor": 4
}
